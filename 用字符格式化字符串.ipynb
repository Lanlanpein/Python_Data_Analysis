{
 "cells": [
  {
   "cell_type": "markdown",
   "id": "3cdc2f03-609a-4fb1-96e3-88cf94fff51f",
   "metadata": {},
   "source": [
    "# 一级标题"
   ]
  },
  {
   "cell_type": "markdown",
   "id": "0949a827-e7f2-4ee5-85ff-16dd6ec5963f",
   "metadata": {},
   "source": [
    "## 二级标题"
   ]
  },
  {
   "cell_type": "markdown",
   "id": "809742f9-45a9-4dc4-bd1a-97359d3d1ade",
   "metadata": {},
   "source": [
    "### 三级标题"
   ]
  },
  {
   "cell_type": "markdown",
   "id": "efa6eb36-00b6-47e1-9f64-c051cce3ba92",
   "metadata": {},
   "source": [
    "#### 四级标题"
   ]
  },
  {
   "cell_type": "markdown",
   "id": "faa6b734-4c0f-4d42-8ddc-54ed95cbccc3",
   "metadata": {},
   "source": [
    "##### 五级标题"
   ]
  },
  {
   "cell_type": "markdown",
   "id": "5210a705-4b76-4398-9981-bb27da2b336e",
   "metadata": {},
   "source": [
    "###### 六级标题"
   ]
  },
  {
   "cell_type": "markdown",
   "id": "314de0df-26bd-4a9d-8965-7974e55dfc33",
   "metadata": {},
   "source": [
    "**粗体字**"
   ]
  },
  {
   "cell_type": "markdown",
   "id": "24457793-9bb3-48e3-a27f-c82b44b7e77b",
   "metadata": {},
   "source": [
    "*斜体字*"
   ]
  },
  {
   "cell_type": "markdown",
   "id": "e2adfc48-bbb6-4c38-8542-31e110cbabc1",
   "metadata": {},
   "source": [
    "~~删除~~"
   ]
  },
  {
   "cell_type": "markdown",
   "id": "95b7341b-d75a-4f71-a88d-a0fe76cb697e",
   "metadata": {},
   "source": [
    "普通文字"
   ]
  },
  {
   "cell_type": "markdown",
   "id": "8027d805-9e54-4f46-a747-45f8583506ce",
   "metadata": {},
   "source": [
    "换两行或\n",
    "\n",
    "两个空格"
   ]
  },
  {
   "cell_type": "markdown",
   "id": "8cd2065c-9ade-436d-8da6-39d909646f16",
   "metadata": {},
   "source": [
    "只换一行\n",
    "不会换行"
   ]
  },
  {
   "cell_type": "markdown",
   "id": "53d72cfd-b715-49fb-a6ba-e48990953142",
   "metadata": {},
   "source": [
    "- 无序列表\n",
    "- 短横杠+空格\n",
    "- 无序列表3"
   ]
  },
  {
   "cell_type": "markdown",
   "id": "b326d759-3afd-46f1-a155-495ebcaecc78",
   "metadata": {},
   "source": [
    "1. 数字+\n",
    "2. 英文句号+\n",
    "3. 空格=\n",
    "4. 有序列表"
   ]
  },
  {
   "cell_type": "markdown",
   "id": "b9c6c749-6634-473b-b15d-378667379559",
   "metadata": {},
   "source": [
    "[方括号里放展示内容,括号里面放网址](https://www.bilibili.com/)"
   ]
  },
  {
   "cell_type": "markdown",
   "id": "0f9aa5dc-d4a9-4ee9-b768-e777766aad88",
   "metadata": {},
   "source": [
    "![感叹号方括号里面放内容，括号放图片链接](//i1.hdslb.com/bfs/archive/1227768309f087712160d7daeef4728cd7fdac9c.jpg)"
   ]
  },
  {
   "cell_type": "markdown",
   "id": "79869db2-cdd0-4121-bb19-cbcbcb832ab3",
   "metadata": {},
   "source": [
    "> 引用"
   ]
  },
  {
   "cell_type": "markdown",
   "id": "965814bd-5ac9-4517-af8b-78ac714e76f6",
   "metadata": {},
   "source": [
    "```python\n",
    "import math//插入单段代码用一对反引号\n",
    "print(\"Hello World\")//插入一段代码要用三个反引号\n",
    "print(math.pi)//三个反引号头后可加语言名称\n",
    "```"
   ]
  },
  {
   "cell_type": "markdown",
   "id": "4d02ec21-c053-4c37-a61b-f6e21e7408f0",
   "metadata": {},
   "source": [
    "美元符号包围公式(行内）：$y = x + 3$"
   ]
  },
  {
   "cell_type": "markdown",
   "id": "882fab33-07c5-4c84-a844-15a8abf7a54d",
   "metadata": {},
   "source": [
    "两个美元符号包围公式（行外）：$$y=x+3$$"
   ]
  },
  {
   "cell_type": "markdown",
   "id": "b0aeaf68-df59-40e2-8f94-faa448899f6e",
   "metadata": {},
   "source": [
    "加$x+y$\n",
    "\n",
    "减$x-y$\n",
    "\n",
    "乘$x\\times y$\n",
    "\n",
    "除$x\\div y$\n",
    "\n",
    "上标$x^3$\n",
    "\n",
    "多位上标$x^{xyz}$\n",
    "\n",
    "下标$H_2O$\n",
    "\n",
    "多位下标$x_{xyz}$\n",
    "\n",
    "求和符号$\\sum(x^2 + y^2)$\n",
    "\n",
    "开根号$\\sqrt[3]xy$\n",
    "\n",
    "长公式求根$\\sqrt[6]{a^2b^2}$\n",
    "\n",
    "分数线$\\frac{x+y}{x-y}$\n",
    "\n",
    "\n",
    "\n"
   ]
  },
  {
   "cell_type": "markdown",
   "id": "d750956f-d727-4917-bda0-c10972115faf",
   "metadata": {},
   "source": [
    "# 终极公式（瞎编的）"
   ]
  },
  {
   "cell_type": "markdown",
   "id": "36058eef-8fca-4873-bab5-1da545ef9d76",
   "metadata": {},
   "source": [
    "$$\\sum_{i = 1}^{\\infty} \\int_{-\\pi}^{\\pi} \\frac{\\lim_{n \\to \\infty} \\left( \\sin^{2}(x) \\cdot \\sqrt[3]{n + \\frac{1}{n}} \\right) \\cdot \\left( \\vec{a} \\cdot \\vec{b} \\right)^{\\frac{\\partial^{2} f(x,y)}{\\partial x \\partial y}}}{\\left| \\ln\\left( \\frac{1 + \\tan^{2}(x)}{2 + \\cot^{2}(y)} \\right) \\right| + \\left( \\sum_{j = 1}^{5} j! \\right) \\cdot \\left( \\frac{\\nabla^{2} g(x,y,z)}{\\sqrt{x^{2}+y^{2}+z^{2}}} \\right) } \\mathrm{d}x \\cdot \\left( \\int_{0}^{1} \\left( \\sum_{k = 0}^{10} \\binom{10}{k} x^{k} \\right) \\mathrm{d}x \\right)^{\\aleph_{0}}$$"
   ]
  },
  {
   "cell_type": "markdown",
   "id": "a4380f3f-fba5-4986-a8ec-2c8350668f00",
   "metadata": {},
   "source": [
    "$$\n",
    "sum_{k = 1}^{n}\\int_{a}^{b}f(x) \\mathrm{d}x + \\lim_{x \\to x_0}\\frac{\\sin(\\alpha x+\\beta)}{\\cos(\\gamma x+\\delta)} \\pm \\sqrt{\\frac{\\sum_{i = 1}^{m}a_{i}^{2}}{\\prod_{j = 1}^{l}b_{j}}} \\neq \\int_{V}\\nabla\\cdot\\vec{F}\\mathrm{d}V \\Leftrightarrow \\oint_{S}\\vec{F}\\cdot\\mathrm{d}\\vec{S} \\gt \\bigcup_{i = 1}^{s}A_{i} \\cap \\bigcap_{j = 1}^{t}B_{j} \\ni \\vec{a}\\cdot\\vec{b} \\times \\vec{c} \\perp \\vec{d} \\parallel \\vec{e} \\approx \\sim \\cong \\equiv \\overset{\\circ}{x} \\overset{\\cdot}{y} \\overset{\\prime}{z} \\binom{n}{r} \\in \\notin \\subset \\subseteq \\supset \\supseteq \\cup \\cap \\oplus \\otimes \\forall \\exists \\neg \\land \\lor \\Rightarrow \\Leftarrow \\Leftrightarrow \\alpha,\\beta,\\gamma,\\delta,\\epsilon,\\zeta,\\eta,\\theta,\\iota,\\kappa,\\lambda,\\mu,\\nu,\\xi,\\pi,\\rho,\\sigma,\\tau,\\upsilon,\\varphi,\\chi,\\psi,\\omega\n",
    "$$"
   ]
  },
  {
   "cell_type": "code",
   "execution_count": null,
   "id": "7f280081-40ca-4142-af9d-cb0b876fa994",
   "metadata": {},
   "outputs": [],
   "source": []
  },
  {
   "cell_type": "code",
   "execution_count": null,
   "id": "49c22c79-c1ad-49b7-a195-0633f5cc877d",
   "metadata": {},
   "outputs": [],
   "source": []
  },
  {
   "cell_type": "code",
   "execution_count": null,
   "id": "de305168-e2b1-40c4-8c33-18b7101d1235",
   "metadata": {},
   "outputs": [],
   "source": []
  }
 ],
 "metadata": {
  "kernelspec": {
   "display_name": "Python 3 (ipykernel)",
   "language": "python",
   "name": "python3"
  },
  "language_info": {
   "codemirror_mode": {
    "name": "ipython",
    "version": 3
   },
   "file_extension": ".py",
   "mimetype": "text/x-python",
   "name": "python",
   "nbconvert_exporter": "python",
   "pygments_lexer": "ipython3",
   "version": "3.13.1"
  }
 },
 "nbformat": 4,
 "nbformat_minor": 5
}
