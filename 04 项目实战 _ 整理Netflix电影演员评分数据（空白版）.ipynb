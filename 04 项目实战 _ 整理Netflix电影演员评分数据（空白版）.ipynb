{
 "cells": [
  {
   "cell_type": "markdown",
   "metadata": {},
   "source": [
    "# 项目：整理Netflix电影演员评分数据"
   ]
  },
  {
   "cell_type": "markdown",
   "metadata": {},
   "source": [
    "## 分析目标"
   ]
  },
  {
   "cell_type": "markdown",
   "metadata": {},
   "source": [
    "此数据分析的目的是，整理不同流派影视作品，比如喜剧片、动作片、科幻片中，各演员出演作品的平均IMDB评分，从而挖掘出各个流派中的高评分作品演员。\n",
    "\n",
    "本实战项目的目的在于练习整理数据，从而得到可供下一步分析的数据。"
   ]
  },
  {
   "cell_type": "markdown",
   "metadata": {},
   "source": [
    "## 简介"
   ]
  },
  {
   "cell_type": "markdown",
   "metadata": {},
   "source": [
    "原始数据集记录了截止至2022年7月美国地区可观看的所有Netflix电视剧及电影数据。数据集包含两个数据表：`titles.csv`和`credits.csv`。\n",
    "\n",
    "`titles.csv`包含电影及电视剧相关信息，包括影视作品ID、标题、类型、描述、流派、IMDB（一个国外的在线评分网站）评分，等等。`credits.csv`包含超过7万名出现在Netflix影视作品的导演及演员信息，包括名字、影视作品ID、人物名、演职员类型（导演/演员）等。"
   ]
  },
  {
   "cell_type": "markdown",
   "metadata": {},
   "source": [
    "`titles.csv`每列的含义如下：\n",
    "- id：影视作品ID。\n",
    "- title：影视作品标题。\n",
    "- show_type：作品类型，电视节目或电影。\n",
    "- description：简短描述。\n",
    "- release_year：发布年份。\n",
    "- age_certification：适龄认证。\n",
    "- runtime：每集电视剧或电影的长度。\n",
    "- genres：流派类型列表。\n",
    "- production_countries：出品国家列表。\n",
    "- seasons：如果是电视剧，则是季数。\n",
    "- imdb_id：IMDB的ID。\n",
    "- imdb_score：IMDB的评分。\n",
    "- imdb_votes：IMDB的投票数。\n",
    "- tmdb_popularity：TMDB的流行度。\n",
    "- tmdb_score：TMDB的评分。\n",
    "\n",
    "`credits.csv`每列的含义如下：\n",
    "- person_ID：演职员ID。\n",
    "- id：参与的影视作品ID。\n",
    "- name：姓名。\n",
    "- character_name：角色姓名。\n",
    "- role：演职员类型，演员或导演。"
   ]
  },
  {
   "cell_type": "code",
   "execution_count": 1,
   "metadata": {},
   "outputs": [],
   "source": [
    "import pandas as pd"
   ]
  },
  {
   "cell_type": "code",
   "execution_count": 3,
   "metadata": {},
   "outputs": [],
   "source": [
    "titles = pd.read_csv(\"titles.csv\")"
   ]
  },
  {
   "cell_type": "code",
   "execution_count": 5,
   "metadata": {},
   "outputs": [],
   "source": [
    "credits = pd.read_csv(\"credits.csv\")"
   ]
  },
  {
   "cell_type": "code",
   "execution_count": 6,
   "metadata": {},
   "outputs": [
    {
     "data": {
      "text/html": [
       "<div>\n",
       "<style scoped>\n",
       "    .dataframe tbody tr th:only-of-type {\n",
       "        vertical-align: middle;\n",
       "    }\n",
       "\n",
       "    .dataframe tbody tr th {\n",
       "        vertical-align: top;\n",
       "    }\n",
       "\n",
       "    .dataframe thead th {\n",
       "        text-align: right;\n",
       "    }\n",
       "</style>\n",
       "<table border=\"1\" class=\"dataframe\">\n",
       "  <thead>\n",
       "    <tr style=\"text-align: right;\">\n",
       "      <th></th>\n",
       "      <th>id</th>\n",
       "      <th>title</th>\n",
       "      <th>type</th>\n",
       "      <th>description</th>\n",
       "      <th>release_year</th>\n",
       "      <th>age_certification</th>\n",
       "      <th>runtime</th>\n",
       "      <th>genres</th>\n",
       "      <th>production_countries</th>\n",
       "      <th>seasons</th>\n",
       "      <th>imdb_id</th>\n",
       "      <th>imdb_score</th>\n",
       "      <th>imdb_votes</th>\n",
       "      <th>tmdb_popularity</th>\n",
       "      <th>tmdb_score</th>\n",
       "    </tr>\n",
       "  </thead>\n",
       "  <tbody>\n",
       "    <tr>\n",
       "      <th>0</th>\n",
       "      <td>ts300399</td>\n",
       "      <td>Five Came Back: The Reference Films</td>\n",
       "      <td>SHOW</td>\n",
       "      <td>This collection includes 12 World War II-era p...</td>\n",
       "      <td>1945</td>\n",
       "      <td>TV-MA</td>\n",
       "      <td>51</td>\n",
       "      <td>['documentation']</td>\n",
       "      <td>['US']</td>\n",
       "      <td>1.0</td>\n",
       "      <td>NaN</td>\n",
       "      <td>NaN</td>\n",
       "      <td>NaN</td>\n",
       "      <td>0.600</td>\n",
       "      <td>NaN</td>\n",
       "    </tr>\n",
       "    <tr>\n",
       "      <th>1</th>\n",
       "      <td>tm84618</td>\n",
       "      <td>Taxi Driver</td>\n",
       "      <td>MOVIE</td>\n",
       "      <td>A mentally unstable Vietnam War veteran works ...</td>\n",
       "      <td>1976</td>\n",
       "      <td>R</td>\n",
       "      <td>114</td>\n",
       "      <td>['drama', 'crime']</td>\n",
       "      <td>['US']</td>\n",
       "      <td>NaN</td>\n",
       "      <td>tt0075314</td>\n",
       "      <td>8.2</td>\n",
       "      <td>808582.0</td>\n",
       "      <td>40.965</td>\n",
       "      <td>8.179</td>\n",
       "    </tr>\n",
       "    <tr>\n",
       "      <th>2</th>\n",
       "      <td>tm154986</td>\n",
       "      <td>Deliverance</td>\n",
       "      <td>MOVIE</td>\n",
       "      <td>Intent on seeing the Cahulawassee River before...</td>\n",
       "      <td>1972</td>\n",
       "      <td>R</td>\n",
       "      <td>109</td>\n",
       "      <td>['drama', 'action', 'thriller', 'european']</td>\n",
       "      <td>['US']</td>\n",
       "      <td>NaN</td>\n",
       "      <td>tt0068473</td>\n",
       "      <td>7.7</td>\n",
       "      <td>107673.0</td>\n",
       "      <td>10.010</td>\n",
       "      <td>7.300</td>\n",
       "    </tr>\n",
       "    <tr>\n",
       "      <th>3</th>\n",
       "      <td>tm127384</td>\n",
       "      <td>Monty Python and the Holy Grail</td>\n",
       "      <td>MOVIE</td>\n",
       "      <td>King Arthur, accompanied by his squire, recrui...</td>\n",
       "      <td>1975</td>\n",
       "      <td>PG</td>\n",
       "      <td>91</td>\n",
       "      <td>['fantasy', 'action', 'comedy']</td>\n",
       "      <td>['GB']</td>\n",
       "      <td>NaN</td>\n",
       "      <td>tt0071853</td>\n",
       "      <td>8.2</td>\n",
       "      <td>534486.0</td>\n",
       "      <td>15.461</td>\n",
       "      <td>7.811</td>\n",
       "    </tr>\n",
       "    <tr>\n",
       "      <th>4</th>\n",
       "      <td>tm120801</td>\n",
       "      <td>The Dirty Dozen</td>\n",
       "      <td>MOVIE</td>\n",
       "      <td>12 American military prisoners in World War II...</td>\n",
       "      <td>1967</td>\n",
       "      <td>NaN</td>\n",
       "      <td>150</td>\n",
       "      <td>['war', 'action']</td>\n",
       "      <td>['GB', 'US']</td>\n",
       "      <td>NaN</td>\n",
       "      <td>tt0061578</td>\n",
       "      <td>7.7</td>\n",
       "      <td>72662.0</td>\n",
       "      <td>20.398</td>\n",
       "      <td>7.600</td>\n",
       "    </tr>\n",
       "  </tbody>\n",
       "</table>\n",
       "</div>"
      ],
      "text/plain": [
       "         id                                title   type  \\\n",
       "0  ts300399  Five Came Back: The Reference Films   SHOW   \n",
       "1   tm84618                          Taxi Driver  MOVIE   \n",
       "2  tm154986                          Deliverance  MOVIE   \n",
       "3  tm127384      Monty Python and the Holy Grail  MOVIE   \n",
       "4  tm120801                      The Dirty Dozen  MOVIE   \n",
       "\n",
       "                                         description  release_year  \\\n",
       "0  This collection includes 12 World War II-era p...          1945   \n",
       "1  A mentally unstable Vietnam War veteran works ...          1976   \n",
       "2  Intent on seeing the Cahulawassee River before...          1972   \n",
       "3  King Arthur, accompanied by his squire, recrui...          1975   \n",
       "4  12 American military prisoners in World War II...          1967   \n",
       "\n",
       "  age_certification  runtime                                       genres  \\\n",
       "0             TV-MA       51                            ['documentation']   \n",
       "1                 R      114                           ['drama', 'crime']   \n",
       "2                 R      109  ['drama', 'action', 'thriller', 'european']   \n",
       "3                PG       91              ['fantasy', 'action', 'comedy']   \n",
       "4               NaN      150                            ['war', 'action']   \n",
       "\n",
       "  production_countries  seasons    imdb_id  imdb_score  imdb_votes  \\\n",
       "0               ['US']      1.0        NaN         NaN         NaN   \n",
       "1               ['US']      NaN  tt0075314         8.2    808582.0   \n",
       "2               ['US']      NaN  tt0068473         7.7    107673.0   \n",
       "3               ['GB']      NaN  tt0071853         8.2    534486.0   \n",
       "4         ['GB', 'US']      NaN  tt0061578         7.7     72662.0   \n",
       "\n",
       "   tmdb_popularity  tmdb_score  \n",
       "0            0.600         NaN  \n",
       "1           40.965       8.179  \n",
       "2           10.010       7.300  \n",
       "3           15.461       7.811  \n",
       "4           20.398       7.600  "
      ]
     },
     "execution_count": 6,
     "metadata": {},
     "output_type": "execute_result"
    }
   ],
   "source": [
    "titles.head()"
   ]
  },
  {
   "cell_type": "code",
   "execution_count": 7,
   "metadata": {},
   "outputs": [
    {
     "data": {
      "text/html": [
       "<div>\n",
       "<style scoped>\n",
       "    .dataframe tbody tr th:only-of-type {\n",
       "        vertical-align: middle;\n",
       "    }\n",
       "\n",
       "    .dataframe tbody tr th {\n",
       "        vertical-align: top;\n",
       "    }\n",
       "\n",
       "    .dataframe thead th {\n",
       "        text-align: right;\n",
       "    }\n",
       "</style>\n",
       "<table border=\"1\" class=\"dataframe\">\n",
       "  <thead>\n",
       "    <tr style=\"text-align: right;\">\n",
       "      <th></th>\n",
       "      <th>person_id</th>\n",
       "      <th>id</th>\n",
       "      <th>name</th>\n",
       "      <th>character</th>\n",
       "      <th>role</th>\n",
       "    </tr>\n",
       "  </thead>\n",
       "  <tbody>\n",
       "    <tr>\n",
       "      <th>0</th>\n",
       "      <td>3748</td>\n",
       "      <td>tm84618</td>\n",
       "      <td>Robert De Niro</td>\n",
       "      <td>Travis Bickle</td>\n",
       "      <td>ACTOR</td>\n",
       "    </tr>\n",
       "    <tr>\n",
       "      <th>1</th>\n",
       "      <td>14658</td>\n",
       "      <td>tm84618</td>\n",
       "      <td>Jodie Foster</td>\n",
       "      <td>Iris Steensma</td>\n",
       "      <td>ACTOR</td>\n",
       "    </tr>\n",
       "    <tr>\n",
       "      <th>2</th>\n",
       "      <td>7064</td>\n",
       "      <td>tm84618</td>\n",
       "      <td>Albert Brooks</td>\n",
       "      <td>Tom</td>\n",
       "      <td>ACTOR</td>\n",
       "    </tr>\n",
       "    <tr>\n",
       "      <th>3</th>\n",
       "      <td>3739</td>\n",
       "      <td>tm84618</td>\n",
       "      <td>Harvey Keitel</td>\n",
       "      <td>Matthew 'Sport' Higgins</td>\n",
       "      <td>ACTOR</td>\n",
       "    </tr>\n",
       "    <tr>\n",
       "      <th>4</th>\n",
       "      <td>48933</td>\n",
       "      <td>tm84618</td>\n",
       "      <td>Cybill Shepherd</td>\n",
       "      <td>Betsy</td>\n",
       "      <td>ACTOR</td>\n",
       "    </tr>\n",
       "  </tbody>\n",
       "</table>\n",
       "</div>"
      ],
      "text/plain": [
       "   person_id       id             name                character   role\n",
       "0       3748  tm84618   Robert De Niro            Travis Bickle  ACTOR\n",
       "1      14658  tm84618     Jodie Foster            Iris Steensma  ACTOR\n",
       "2       7064  tm84618    Albert Brooks                      Tom  ACTOR\n",
       "3       3739  tm84618    Harvey Keitel  Matthew 'Sport' Higgins  ACTOR\n",
       "4      48933  tm84618  Cybill Shepherd                    Betsy  ACTOR"
      ]
     },
     "execution_count": 7,
     "metadata": {},
     "output_type": "execute_result"
    }
   ],
   "source": [
    "credits.head()"
   ]
  },
  {
   "cell_type": "code",
   "execution_count": null,
   "metadata": {},
   "outputs": [],
   "source": [
    "titles.rename(index={\"id\":\"编号\",\"title\":\"标题\",\"type\":\"类型\",\"description\":\"介绍\",\"release_year\":\"发行年份\",\"ru\"\"\"\"\"\"\"\"})"
   ]
  }
 ],
 "metadata": {
  "kernelspec": {
   "display_name": "Python 3 (ipykernel)",
   "language": "python",
   "name": "python3"
  },
  "language_info": {
   "codemirror_mode": {
    "name": "ipython",
    "version": 3
   },
   "file_extension": ".py",
   "mimetype": "text/x-python",
   "name": "python",
   "nbconvert_exporter": "python",
   "pygments_lexer": "ipython3",
   "version": "3.13.1"
  }
 },
 "nbformat": 4,
 "nbformat_minor": 4
}
