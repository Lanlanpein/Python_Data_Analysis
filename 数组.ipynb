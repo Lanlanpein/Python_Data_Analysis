{
 "cells": [
  {
   "cell_type": "code",
   "execution_count": 1,
   "id": "48c2c76b-63a3-4971-9390-3bf50f17a333",
   "metadata": {},
   "outputs": [],
   "source": [
    "import numpy as np"
   ]
  },
  {
   "cell_type": "code",
   "execution_count": 2,
   "id": "f7813e0c-740c-4c54-9a23-7f90c428976a",
   "metadata": {},
   "outputs": [
    {
     "data": {
      "text/plain": [
       "array([1, 2, 3])"
      ]
     },
     "execution_count": 2,
     "metadata": {},
     "output_type": "execute_result"
    }
   ],
   "source": [
    "arr1 = np.array([1,2,3])\n",
    "arr1"
   ]
  },
  {
   "cell_type": "code",
   "execution_count": 3,
   "id": "3bcf40ad-36f7-44b4-96fc-64b019dfadfe",
   "metadata": {},
   "outputs": [
    {
     "data": {
      "text/plain": [
       "array([[1, 2, 3],\n",
       "       [4, 5, 6]])"
      ]
     },
     "execution_count": 3,
     "metadata": {},
     "output_type": "execute_result"
    }
   ],
   "source": [
    "arr2 = np.array([[1,2,3],[4,5,6]])\n",
    "arr2"
   ]
  },
  {
   "cell_type": "markdown",
   "id": "bdac5532-a7ac-4c5e-bb18-6628c9c19098",
   "metadata": {},
   "source": [
    "简单的判别方法：左边有几个方括号，就是几维数组"
   ]
  },
  {
   "cell_type": "code",
   "execution_count": 4,
   "id": "91a9d37b-2170-41d8-957f-2054461f6144",
   "metadata": {},
   "outputs": [
    {
     "name": "stdout",
     "output_type": "stream",
     "text": [
      "1\n",
      "(2, 3)\n",
      "6\n",
      "int64\n"
     ]
    }
   ],
   "source": [
    "print(arr1.ndim)\n",
    "print(arr2.shape)\n",
    "print(arr2.size)\n",
    "print(arr2.dtype)"
   ]
  },
  {
   "cell_type": "markdown",
   "id": "49efe420-839d-4fc2-9ef4-0748adff2917",
   "metadata": {},
   "source": [
    "ndim：返回数组维度\n",
    "\n",
    "shape:返回元组，表示各个维度元素个数\n",
    "\n",
    "size：返回数组元素总个数\n",
    "\n",
    "dtype:数组元素类型（int64：int类型，64比特长度）"
   ]
  },
  {
   "cell_type": "code",
   "execution_count": 5,
   "id": "d21fe3e5-45c6-4746-8e50-7566a82b1f8f",
   "metadata": {},
   "outputs": [
    {
     "data": {
      "text/plain": [
       "array([0., 0., 0.])"
      ]
     },
     "execution_count": 5,
     "metadata": {},
     "output_type": "execute_result"
    }
   ],
   "source": [
    "arr3 = np.zeros(3)\n",
    "arr3"
   ]
  },
  {
   "cell_type": "markdown",
   "id": "03d657d4-1f09-4e7a-8f77-86e6bffa8a7d",
   "metadata": {},
   "source": [
    "创建元素全为零的数组"
   ]
  },
  {
   "cell_type": "code",
   "execution_count": 6,
   "id": "a947496a-7a87-4394-99f2-bad5ea15f459",
   "metadata": {},
   "outputs": [
    {
     "data": {
      "text/plain": [
       "array([1., 1., 1.])"
      ]
     },
     "execution_count": 6,
     "metadata": {},
     "output_type": "execute_result"
    }
   ],
   "source": [
    "arr4 = np.ones(3)\n",
    "arr4"
   ]
  },
  {
   "cell_type": "markdown",
   "id": "e17b80d4-5b1f-4080-8a25-be8dde131913",
   "metadata": {},
   "source": [
    "创建全为1的数组（后面有点是因为是浮点型）"
   ]
  },
  {
   "cell_type": "code",
   "execution_count": 7,
   "id": "39ece07a-ce9a-42aa-abe7-1f3782958722",
   "metadata": {},
   "outputs": [
    {
     "data": {
      "text/plain": [
       "array([5, 7, 9])"
      ]
     },
     "execution_count": 7,
     "metadata": {},
     "output_type": "execute_result"
    }
   ],
   "source": [
    "np.arange(5, 10, 2)"
   ]
  },
  {
   "cell_type": "markdown",
   "id": "4c4ef7d9-3495-402a-8307-3c5a0f0d0d48",
   "metadata": {},
   "source": [
    "创建数字序列的数组（np.arange（起始值,结束值,步长））结束值不包括在内（前闭后开）"
   ]
  },
  {
   "cell_type": "code",
   "execution_count": 8,
   "id": "45c16326-b525-472d-bbad-c1a0d0f74ca9",
   "metadata": {},
   "outputs": [
    {
     "data": {
      "text/plain": [
       "array([[1, 2, 3, 0],\n",
       "       [4, 5, 6, 0],\n",
       "       [7, 8, 9, 0]])"
      ]
     },
     "execution_count": 8,
     "metadata": {},
     "output_type": "execute_result"
    }
   ],
   "source": [
    "sanwei= np.array([[1,2,3,0],[4,5,6,0],[7,8,9,0]])\n",
    "sanwei"
   ]
  },
  {
   "cell_type": "code",
   "execution_count": 9,
   "id": "834fe13a-25fe-400a-b9ba-9956c8343000",
   "metadata": {},
   "outputs": [
    {
     "data": {
      "text/plain": [
       "array([[1, 3, 7],\n",
       "       [4, 5, 9]])"
      ]
     },
     "execution_count": 9,
     "metadata": {},
     "output_type": "execute_result"
    }
   ],
   "source": [
    "erwei = np.array([[1,3,7],[4,5,9]])\n",
    "erwei"
   ]
  },
  {
   "cell_type": "code",
   "execution_count": 10,
   "id": "bc31e786-c5d1-4b5c-b3be-99ee68822c6a",
   "metadata": {},
   "outputs": [
    {
     "data": {
      "text/plain": [
       "array([0., 0., 0., 1., 1., 1.])"
      ]
     },
     "execution_count": 10,
     "metadata": {},
     "output_type": "execute_result"
    }
   ],
   "source": [
    "arr5 = np.concatenate([arr3, arr4])\n",
    "arr5"
   ]
  },
  {
   "cell_type": "markdown",
   "id": "3c21505b-a304-48f0-9338-09f05218866c",
   "metadata": {},
   "source": [
    "concatenate拼接两个数组（数组类型自动统一）"
   ]
  },
  {
   "cell_type": "code",
   "execution_count": 11,
   "id": "73694d6a-fc80-4248-9752-13a926b9c850",
   "metadata": {},
   "outputs": [
    {
     "name": "stdout",
     "output_type": "stream",
     "text": [
      "[   -5123     -243        0        1      100      355      434      665\n",
      "   114514 43423555]\n",
      "[       1      100      434   114514     -243      355 43423555      665\n",
      "        0    -5123]\n"
     ]
    }
   ],
   "source": [
    "arr6 = np.array([1, 100, 434, 114514, -243, 355, 43423555, 665, 0, -5123])\n",
    "print(np.sort(arr6))\n",
    "print(arr6)"
   ]
  },
  {
   "cell_type": "code",
   "execution_count": 12,
   "id": "b04ca1f5-fd68-4595-8511-d057333d1190",
   "metadata": {},
   "outputs": [
    {
     "name": "stdout",
     "output_type": "stream",
     "text": [
      "None\n",
      "[   -5123     -243        0        1      100      355      434      665\n",
      "   114514 43423555]\n"
     ]
    }
   ],
   "source": [
    "print(arr6.sort())\n",
    "print(arr6)"
   ]
  },
  {
   "cell_type": "markdown",
   "id": "8b9d7d80-eb8f-4654-a7fb-575c50ced6e3",
   "metadata": {},
   "source": [
    "sort函数排序不改变数组，sort方法改变数组"
   ]
  },
  {
   "cell_type": "code",
   "execution_count": 13,
   "id": "7108a7f4-e21a-45e0-b642-2681b093fd52",
   "metadata": {},
   "outputs": [
    {
     "data": {
      "text/plain": [
       "array([-243,    0])"
      ]
     },
     "execution_count": 13,
     "metadata": {},
     "output_type": "execute_result"
    }
   ],
   "source": [
    "arr6[1:3]"
   ]
  },
  {
   "cell_type": "code",
   "execution_count": 14,
   "id": "42af35df-6156-47ab-8bcb-e24c90f1d9d4",
   "metadata": {},
   "outputs": [
    {
     "data": {
      "text/plain": [
       "np.int64(434)"
      ]
     },
     "execution_count": 14,
     "metadata": {},
     "output_type": "execute_result"
    }
   ],
   "source": [
    "arr6[6]"
   ]
  },
  {
   "cell_type": "markdown",
   "id": "5d1c3165-1992-4fbf-881f-33c3c21c584a",
   "metadata": {},
   "source": [
    "索引"
   ]
  },
  {
   "cell_type": "code",
   "execution_count": 22,
   "id": "5a35025a-608b-47a0-8276-03a453a28152",
   "metadata": {},
   "outputs": [
    {
     "name": "stdout",
     "output_type": "stream",
     "text": [
      "[2. 3. 4.]\n",
      "[0. 1. 2.]\n",
      "[1. 2. 3.]\n",
      "[[1.         0.66666667 0.42857143]\n",
      " [1.         1.         0.66666667]]\n",
      "[[ 3  6  9  0]\n",
      " [12 15 18  0]\n",
      " [21 24 27  0]]\n",
      "43423555\n",
      "-5123\n",
      "43534258\n",
      "4353425.8\n"
     ]
    }
   ],
   "source": [
    "print(arr1 + arr4)\n",
    "print(arr1 - arr4)\n",
    "print(arr1 * arr4)\n",
    "print(arr2 / erwei)\n",
    "print(sanwei * 3)\n",
    "print(arr6.max())\n",
    "print(arr6.min())\n",
    "print(arr6.sum())\n",
    "print(arr6.mean())"
   ]
  },
  {
   "cell_type": "markdown",
   "id": "f7a2a1a3-6477-4d44-a81e-dbd3ce9556cd",
   "metadata": {},
   "source": [
    "求最大值最小值求和求平均值"
   ]
  },
  {
   "cell_type": "code",
   "execution_count": 27,
   "id": "e58b1f78-f078-4ad9-bdd5-b2c49ee06c0a",
   "metadata": {},
   "outputs": [
    {
     "data": {
      "text/plain": [
       "array([100, 355, 434, 665])"
      ]
     },
     "execution_count": 27,
     "metadata": {},
     "output_type": "execute_result"
    }
   ],
   "source": [
    "arr6[ (arr6>6) &(arr6<114514)]"
   ]
  },
  {
   "cell_type": "markdown",
   "id": "77e1a7af-a133-4dad-bf2b-0b1f56d5ac9b",
   "metadata": {},
   "source": [
    "与或非：&|~"
   ]
  },
  {
   "cell_type": "code",
   "execution_count": null,
   "id": "1a532a76-eb05-4ef0-9972-c4c4b9bd56dc",
   "metadata": {},
   "outputs": [],
   "source": []
  },
  {
   "cell_type": "code",
   "execution_count": null,
   "id": "d8cb61d4-e728-4124-b753-1069089d8cce",
   "metadata": {},
   "outputs": [],
   "source": []
  },
  {
   "cell_type": "code",
   "execution_count": null,
   "id": "fa6877df-4030-4e8f-a7cf-b3c34cf29fcc",
   "metadata": {},
   "outputs": [],
   "source": []
  },
  {
   "cell_type": "code",
   "execution_count": null,
   "id": "8947486d-d600-4f93-adbc-321ac14af8ee",
   "metadata": {},
   "outputs": [],
   "source": []
  },
  {
   "cell_type": "code",
   "execution_count": null,
   "id": "56709fcf-f5b6-402f-888e-886baf05cf9e",
   "metadata": {},
   "outputs": [],
   "source": []
  },
  {
   "cell_type": "code",
   "execution_count": null,
   "id": "9f1e932b-7661-4e0b-938b-8db4bb77dbf5",
   "metadata": {},
   "outputs": [],
   "source": []
  },
  {
   "cell_type": "code",
   "execution_count": null,
   "id": "95d2939a-0bd0-4aeb-b36a-ad375c4fc53b",
   "metadata": {},
   "outputs": [],
   "source": []
  },
  {
   "cell_type": "code",
   "execution_count": null,
   "id": "7ff5633f-fa14-4f05-87fe-71e467b0ebe0",
   "metadata": {},
   "outputs": [],
   "source": []
  },
  {
   "cell_type": "code",
   "execution_count": null,
   "id": "4c0c2e56-15a8-4450-8650-86e4a663aaa6",
   "metadata": {},
   "outputs": [],
   "source": []
  },
  {
   "cell_type": "code",
   "execution_count": null,
   "id": "6fa5a4a7-643c-4f7c-9460-182d72f55006",
   "metadata": {},
   "outputs": [],
   "source": []
  },
  {
   "cell_type": "code",
   "execution_count": null,
   "id": "8a83e867-479a-46d7-b4f9-931694a92077",
   "metadata": {},
   "outputs": [],
   "source": []
  },
  {
   "cell_type": "code",
   "execution_count": null,
   "id": "d726c715-1c9a-47e3-b25d-a41a839e4032",
   "metadata": {},
   "outputs": [],
   "source": []
  },
  {
   "cell_type": "code",
   "execution_count": null,
   "id": "c289ed21-b5b4-4ab1-87c5-c5da46cee140",
   "metadata": {},
   "outputs": [],
   "source": []
  }
 ],
 "metadata": {
  "kernelspec": {
   "display_name": "Python 3 (ipykernel)",
   "language": "python",
   "name": "python3"
  },
  "language_info": {
   "codemirror_mode": {
    "name": "ipython",
    "version": 3
   },
   "file_extension": ".py",
   "mimetype": "text/x-python",
   "name": "python",
   "nbconvert_exporter": "python",
   "pygments_lexer": "ipython3",
   "version": "3.13.1"
  }
 },
 "nbformat": 4,
 "nbformat_minor": 5
}
