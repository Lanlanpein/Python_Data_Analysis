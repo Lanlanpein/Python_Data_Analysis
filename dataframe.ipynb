{
 "cells": [
  {
   "cell_type": "code",
   "execution_count": 1,
   "id": "5738de3b-0f82-4212-a471-b7743f1d3911",
   "metadata": {},
   "outputs": [],
   "source": [
    "import pandas as pd"
   ]
  },
  {
   "cell_type": "code",
   "execution_count": 2,
   "id": "2f35ea5b-4a83-4fdd-a92e-7994d1ba172f",
   "metadata": {},
   "outputs": [
    {
     "data": {
      "text/html": [
       "<div>\n",
       "<style scoped>\n",
       "    .dataframe tbody tr th:only-of-type {\n",
       "        vertical-align: middle;\n",
       "    }\n",
       "\n",
       "    .dataframe tbody tr th {\n",
       "        vertical-align: top;\n",
       "    }\n",
       "\n",
       "    .dataframe thead th {\n",
       "        text-align: right;\n",
       "    }\n",
       "</style>\n",
       "<table border=\"1\" class=\"dataframe\">\n",
       "  <thead>\n",
       "    <tr style=\"text-align: right;\">\n",
       "      <th></th>\n",
       "      <th>学号</th>\n",
       "      <th>班级</th>\n",
       "      <th>成绩</th>\n",
       "    </tr>\n",
       "  </thead>\n",
       "  <tbody>\n",
       "    <tr>\n",
       "      <th>0</th>\n",
       "      <td>01</td>\n",
       "      <td>二班</td>\n",
       "      <td>92</td>\n",
       "    </tr>\n",
       "    <tr>\n",
       "      <th>1</th>\n",
       "      <td>02</td>\n",
       "      <td>一班</td>\n",
       "      <td>67</td>\n",
       "    </tr>\n",
       "    <tr>\n",
       "      <th>2</th>\n",
       "      <td>03</td>\n",
       "      <td>二班</td>\n",
       "      <td>70</td>\n",
       "    </tr>\n",
       "    <tr>\n",
       "      <th>3</th>\n",
       "      <td>04</td>\n",
       "      <td>三班</td>\n",
       "      <td>88</td>\n",
       "    </tr>\n",
       "    <tr>\n",
       "      <th>4</th>\n",
       "      <td>05</td>\n",
       "      <td>一班</td>\n",
       "      <td>76</td>\n",
       "    </tr>\n",
       "  </tbody>\n",
       "</table>\n",
       "</div>"
      ],
      "text/plain": [
       "   学号  班级  成绩\n",
       "0  01  二班  92\n",
       "1  02  一班  67\n",
       "2  03  二班  70\n",
       "3  04  三班  88\n",
       "4  05  一班  76"
      ]
     },
     "execution_count": 2,
     "metadata": {},
     "output_type": "execute_result"
    }
   ],
   "source": [
    "s_id = pd.Series([\"01\",\"02\",\"03\",\"04\",\"05\"])\n",
    "s_class = pd.Series([\"二班\",\"一班\",\"二班\",\"三班\",\"一班\"])\n",
    "s_grade = pd.Series([92,67,70,88,76])\n",
    "\n",
    "df1 = pd.DataFrame({\"学号\":s_id,\"班级\":s_class,\"成绩\":s_grade})\n",
    "df1"
   ]
  },
  {
   "cell_type": "markdown",
   "id": "0a63d23a-4ee6-4cc0-b7b3-f98ca0ef29f5",
   "metadata": {},
   "source": [
    "创建dataframe第一种方法"
   ]
  },
  {
   "cell_type": "code",
   "execution_count": 3,
   "id": "fec603c6-1832-41a9-9295-38d7e83de89b",
   "metadata": {},
   "outputs": [
    {
     "data": {
      "text/html": [
       "<div>\n",
       "<style scoped>\n",
       "    .dataframe tbody tr th:only-of-type {\n",
       "        vertical-align: middle;\n",
       "    }\n",
       "\n",
       "    .dataframe tbody tr th {\n",
       "        vertical-align: top;\n",
       "    }\n",
       "\n",
       "    .dataframe thead th {\n",
       "        text-align: right;\n",
       "    }\n",
       "</style>\n",
       "<table border=\"1\" class=\"dataframe\">\n",
       "  <thead>\n",
       "    <tr style=\"text-align: right;\">\n",
       "      <th></th>\n",
       "      <th>学号</th>\n",
       "      <th>班级</th>\n",
       "      <th>成绩</th>\n",
       "    </tr>\n",
       "  </thead>\n",
       "  <tbody>\n",
       "    <tr>\n",
       "      <th>小明</th>\n",
       "      <td>01</td>\n",
       "      <td>二班</td>\n",
       "      <td>92</td>\n",
       "    </tr>\n",
       "    <tr>\n",
       "      <th>小红</th>\n",
       "      <td>02</td>\n",
       "      <td>一班</td>\n",
       "      <td>67</td>\n",
       "    </tr>\n",
       "    <tr>\n",
       "      <th>小杰</th>\n",
       "      <td>03</td>\n",
       "      <td>二班</td>\n",
       "      <td>70</td>\n",
       "    </tr>\n",
       "    <tr>\n",
       "      <th>小丽</th>\n",
       "      <td>04</td>\n",
       "      <td>三班</td>\n",
       "      <td>88</td>\n",
       "    </tr>\n",
       "    <tr>\n",
       "      <th>小华</th>\n",
       "      <td>05</td>\n",
       "      <td>一班</td>\n",
       "      <td>76</td>\n",
       "    </tr>\n",
       "  </tbody>\n",
       "</table>\n",
       "</div>"
      ],
      "text/plain": [
       "    学号  班级  成绩\n",
       "小明  01  二班  92\n",
       "小红  02  一班  67\n",
       "小杰  03  二班  70\n",
       "小丽  04  三班  88\n",
       "小华  05  一班  76"
      ]
     },
     "execution_count": 3,
     "metadata": {},
     "output_type": "execute_result"
    }
   ],
   "source": [
    "df2 = pd.DataFrame({\"学号\":{\"小明\":\"01\",\"小红\":\"02\",\"小杰\":\"03\",\"小丽\":\"04\",\"小华\":\"05\"},\n",
    "                    \"班级\":{\"小明\":\"二班\",\"小红\":\"一班\",\"小杰\":\"二班\",\"小丽\":\"三班\",\"小华\":\"一班\"},\n",
    "                    \"成绩\":{\"小明\":92,\"小红\":67,\"小杰\":70,\"小丽\":88,\"小华\":76}})\n",
    "df2"
   ]
  },
  {
   "cell_type": "markdown",
   "id": "5c06da0c-f450-45c9-a70a-148b230c838a",
   "metadata": {},
   "source": [
    "创建dataframe的第二种方法，字典嵌套字典，里层字典的键对应series的标签索引"
   ]
  },
  {
   "cell_type": "code",
   "execution_count": 4,
   "id": "74de397a-a4eb-4c58-8f79-844dc2291852",
   "metadata": {},
   "outputs": [
    {
     "data": {
      "text/plain": [
       "Index(['小明', '小红', '小杰', '小丽', '小华'], dtype='object')"
      ]
     },
     "execution_count": 4,
     "metadata": {},
     "output_type": "execute_result"
    }
   ],
   "source": [
    "df2.index"
   ]
  },
  {
   "cell_type": "markdown",
   "id": "6069db2b-483a-4fdf-8122-eb372099f926",
   "metadata": {},
   "source": [
    "index获取所有索引"
   ]
  },
  {
   "cell_type": "code",
   "execution_count": 5,
   "id": "3fc2d386-ad60-46e0-8c63-84ba50a7bdac",
   "metadata": {},
   "outputs": [
    {
     "data": {
      "text/plain": [
       "Index(['学号', '班级', '成绩'], dtype='object')"
      ]
     },
     "execution_count": 5,
     "metadata": {},
     "output_type": "execute_result"
    }
   ],
   "source": [
    "df2.columns"
   ]
  },
  {
   "cell_type": "markdown",
   "id": "41395b15-9619-4a6f-b0c9-029df2b6c498",
   "metadata": {},
   "source": [
    "columns获取所有列名"
   ]
  },
  {
   "cell_type": "code",
   "execution_count": 6,
   "id": "aa579ab0-0448-48a8-89da-3b2449f27b14",
   "metadata": {},
   "outputs": [
    {
     "data": {
      "text/plain": [
       "array([['01', '二班', 92],\n",
       "       ['02', '一班', 67],\n",
       "       ['03', '二班', 70],\n",
       "       ['04', '三班', 88],\n",
       "       ['05', '一班', 76]], dtype=object)"
      ]
     },
     "execution_count": 6,
     "metadata": {},
     "output_type": "execute_result"
    }
   ],
   "source": [
    "df2.values"
   ]
  },
  {
   "cell_type": "markdown",
   "id": "ffacf82a-c666-4199-aafe-1eeba6d0a5ec",
   "metadata": {},
   "source": [
    "获取所有值（返回为numpy数组）"
   ]
  },
  {
   "cell_type": "code",
   "execution_count": 7,
   "id": "05b3c324-343a-4323-af76-98ff12207b49",
   "metadata": {},
   "outputs": [
    {
     "data": {
      "text/html": [
       "<div>\n",
       "<style scoped>\n",
       "    .dataframe tbody tr th:only-of-type {\n",
       "        vertical-align: middle;\n",
       "    }\n",
       "\n",
       "    .dataframe tbody tr th {\n",
       "        vertical-align: top;\n",
       "    }\n",
       "\n",
       "    .dataframe thead th {\n",
       "        text-align: right;\n",
       "    }\n",
       "</style>\n",
       "<table border=\"1\" class=\"dataframe\">\n",
       "  <thead>\n",
       "    <tr style=\"text-align: right;\">\n",
       "      <th></th>\n",
       "      <th>小明</th>\n",
       "      <th>小红</th>\n",
       "      <th>小杰</th>\n",
       "      <th>小丽</th>\n",
       "      <th>小华</th>\n",
       "    </tr>\n",
       "  </thead>\n",
       "  <tbody>\n",
       "    <tr>\n",
       "      <th>学号</th>\n",
       "      <td>01</td>\n",
       "      <td>02</td>\n",
       "      <td>03</td>\n",
       "      <td>04</td>\n",
       "      <td>05</td>\n",
       "    </tr>\n",
       "    <tr>\n",
       "      <th>班级</th>\n",
       "      <td>二班</td>\n",
       "      <td>一班</td>\n",
       "      <td>二班</td>\n",
       "      <td>三班</td>\n",
       "      <td>一班</td>\n",
       "    </tr>\n",
       "    <tr>\n",
       "      <th>成绩</th>\n",
       "      <td>92</td>\n",
       "      <td>67</td>\n",
       "      <td>70</td>\n",
       "      <td>88</td>\n",
       "      <td>76</td>\n",
       "    </tr>\n",
       "  </tbody>\n",
       "</table>\n",
       "</div>"
      ],
      "text/plain": [
       "    小明  小红  小杰  小丽  小华\n",
       "学号  01  02  03  04  05\n",
       "班级  二班  一班  二班  三班  一班\n",
       "成绩  92  67  70  88  76"
      ]
     },
     "execution_count": 7,
     "metadata": {},
     "output_type": "execute_result"
    }
   ],
   "source": [
    "df2.T"
   ]
  },
  {
   "cell_type": "markdown",
   "id": "c29ea1dd-37d9-4439-a312-a5cc5bee6a6e",
   "metadata": {},
   "source": [
    "T转置列表"
   ]
  },
  {
   "cell_type": "code",
   "execution_count": 8,
   "id": "cbbbc102-592d-48ff-bf27-178e874d469c",
   "metadata": {},
   "outputs": [
    {
     "name": "stdout",
     "output_type": "stream",
     "text": [
      "小明    二班\n",
      "小红    一班\n",
      "小杰    二班\n",
      "小丽    三班\n",
      "小华    一班\n",
      "Name: 班级, dtype: object\n",
      "小明    二班\n",
      "小红    一班\n",
      "小杰    二班\n",
      "小丽    三班\n",
      "小华    一班\n",
      "Name: 班级, dtype: object\n"
     ]
    }
   ],
   "source": [
    "print(df2['班级'])\n",
    "print(df2.班级)"
   ]
  },
  {
   "cell_type": "markdown",
   "id": "f3f175b8-fb50-4596-a37f-9d46268247b3",
   "metadata": {},
   "source": [
    "提取所有列（两种方法,列明若有空格或特殊符号则不能用方法二）"
   ]
  },
  {
   "cell_type": "code",
   "execution_count": 9,
   "id": "fc6a447a-3d98-4e3a-8d89-82efb5214a63",
   "metadata": {},
   "outputs": [
    {
     "data": {
      "text/html": [
       "<div>\n",
       "<style scoped>\n",
       "    .dataframe tbody tr th:only-of-type {\n",
       "        vertical-align: middle;\n",
       "    }\n",
       "\n",
       "    .dataframe tbody tr th {\n",
       "        vertical-align: top;\n",
       "    }\n",
       "\n",
       "    .dataframe thead th {\n",
       "        text-align: right;\n",
       "    }\n",
       "</style>\n",
       "<table border=\"1\" class=\"dataframe\">\n",
       "  <thead>\n",
       "    <tr style=\"text-align: right;\">\n",
       "      <th></th>\n",
       "      <th>成绩</th>\n",
       "      <th>班级</th>\n",
       "    </tr>\n",
       "  </thead>\n",
       "  <tbody>\n",
       "    <tr>\n",
       "      <th>小明</th>\n",
       "      <td>92</td>\n",
       "      <td>二班</td>\n",
       "    </tr>\n",
       "    <tr>\n",
       "      <th>小红</th>\n",
       "      <td>67</td>\n",
       "      <td>一班</td>\n",
       "    </tr>\n",
       "    <tr>\n",
       "      <th>小杰</th>\n",
       "      <td>70</td>\n",
       "      <td>二班</td>\n",
       "    </tr>\n",
       "    <tr>\n",
       "      <th>小丽</th>\n",
       "      <td>88</td>\n",
       "      <td>三班</td>\n",
       "    </tr>\n",
       "    <tr>\n",
       "      <th>小华</th>\n",
       "      <td>76</td>\n",
       "      <td>一班</td>\n",
       "    </tr>\n",
       "  </tbody>\n",
       "</table>\n",
       "</div>"
      ],
      "text/plain": [
       "    成绩  班级\n",
       "小明  92  二班\n",
       "小红  67  一班\n",
       "小杰  70  二班\n",
       "小丽  88  三班\n",
       "小华  76  一班"
      ]
     },
     "execution_count": 9,
     "metadata": {},
     "output_type": "execute_result"
    }
   ],
   "source": [
    "df2[['成绩','班级']]"
   ]
  },
  {
   "cell_type": "markdown",
   "id": "b768343e-dbc2-4d76-bfbf-6834e272f1fe",
   "metadata": {},
   "source": [
    "提取多列，在方括号里传入多个属性值"
   ]
  },
  {
   "cell_type": "code",
   "execution_count": 10,
   "id": "f581ebb6-0933-4ef7-b2d3-73a99327c383",
   "metadata": {},
   "outputs": [
    {
     "name": "stdout",
     "output_type": "stream",
     "text": [
      "学号    04\n",
      "班级    三班\n",
      "成绩    88\n",
      "Name: 小丽, dtype: object\n",
      "学号    04\n",
      "班级    三班\n",
      "成绩    88\n",
      "Name: 小丽, dtype: object\n"
     ]
    }
   ],
   "source": [
    "print(df2.loc[\"小丽\"])\n",
    "print(df2.iloc[3])"
   ]
  },
  {
   "cell_type": "markdown",
   "id": "5b0d04a5-e813-46fc-9288-4cf0e330e954",
   "metadata": {},
   "source": [
    "提取行，loc（标签），iloc（位置）"
   ]
  },
  {
   "cell_type": "code",
   "execution_count": 11,
   "id": "9d648e59-d623-4a8e-9969-702aba37dd1d",
   "metadata": {},
   "outputs": [
    {
     "name": "stdout",
     "output_type": "stream",
     "text": [
      "    学号  班级  成绩\n",
      "小红  02  一班  67\n",
      "小杰  03  二班  70\n",
      "小丽  04  三班  88\n",
      "    学号  班级  成绩\n",
      "小红  02  一班  67\n",
      "小杰  03  二班  70\n"
     ]
    }
   ],
   "source": [
    "print(df2.loc[\"小红\":\"小丽\"])\n",
    "print(df2.iloc[1:3])"
   ]
  },
  {
   "cell_type": "markdown",
   "id": "7357fe65-e724-4798-a39c-69f08ede56b6",
   "metadata": {},
   "source": [
    "索引切片和series一样"
   ]
  },
  {
   "cell_type": "code",
   "execution_count": 12,
   "id": "27291cc3-d77f-4fce-8250-77633393f512",
   "metadata": {},
   "outputs": [
    {
     "name": "stdout",
     "output_type": "stream",
     "text": [
      "    学号  班级  成绩\n",
      "小丽  04  三班  88\n",
      "小红  02  一班  67\n",
      "    学号  班级  成绩\n",
      "小丽  04  三班  88\n",
      "小红  02  一班  67\n"
     ]
    }
   ],
   "source": [
    "print(df2.loc[[\"小丽\",\"小红\"]])\n",
    "print(df2.iloc[[3,1]])"
   ]
  },
  {
   "cell_type": "markdown",
   "id": "1a26b53d-2034-4b39-b18c-edcdc0280b7f",
   "metadata": {},
   "source": [
    "提取任意行"
   ]
  },
  {
   "cell_type": "code",
   "execution_count": 14,
   "id": "5a732aaa-cddf-4221-be38-50ddec76d475",
   "metadata": {},
   "outputs": [
    {
     "name": "stdout",
     "output_type": "stream",
     "text": [
      "03\n",
      "03\n"
     ]
    }
   ],
   "source": [
    "print(df2.loc[\"小杰\",\"学号\"])\n",
    "print(df2.iloc[2,0])"
   ]
  },
  {
   "cell_type": "markdown",
   "id": "49e446bc-2515-400c-8c8d-d35b45f8ad07",
   "metadata": {},
   "source": [
    "提取dataframe里的某个元素（行，列）"
   ]
  },
  {
   "cell_type": "code",
   "execution_count": 15,
   "id": "8ee3d34c-b85f-4908-bf67-a1de77630d90",
   "metadata": {},
   "outputs": [
    {
     "name": "stdout",
     "output_type": "stream",
     "text": [
      "    班级  成绩\n",
      "小红  一班  67\n",
      "小杰  二班  70\n",
      "    班级  成绩\n",
      "小红  一班  67\n",
      "小杰  二班  70\n",
      "    班级  成绩\n",
      "小明  二班  92\n",
      "小红  一班  67\n",
      "小杰  二班  70\n",
      "小丽  三班  88\n",
      "小华  一班  76\n",
      "    班级  成绩\n",
      "小明  二班  92\n",
      "小红  一班  67\n",
      "小杰  二班  70\n",
      "小丽  三班  88\n",
      "小华  一班  76\n"
     ]
    }
   ],
   "source": [
    "print(df2.loc[\"小红\":\"小杰\",\"班级\":\"成绩\"])\n",
    "print(df2.iloc[1:3,1:3])\n",
    "print(df2.loc[:,\"班级\":\"成绩\"])\n",
    "print(df2.iloc[:,1:3])"
   ]
  },
  {
   "cell_type": "markdown",
   "id": "642bda97-d1ed-4acd-a129-ee191188164d",
   "metadata": {},
   "source": [
    "提取部分元素（行的切片，列的切片）\n",
    "\n",
    "提取部分列，保留所有行（：表示默认提取所有所有）"
   ]
  },
  {
   "cell_type": "code",
   "execution_count": 24,
   "id": "1d396241-e9d9-470b-8dad-0f3ed245fd88",
   "metadata": {},
   "outputs": [
    {
     "name": "stdout",
     "output_type": "stream",
     "text": [
      "    学号  班级\n",
      "小红  02  一班\n",
      "小丽  04  三班\n",
      "    学号  班级\n",
      "小红  02  一班\n",
      "小丽  04  三班\n"
     ]
    }
   ],
   "source": [
    "print(df2.loc[[\"小红\",\"小丽\"], \"学号\":\"班级\"])\n",
    "print(df2.iloc[[1,3],0:2])"
   ]
  },
  {
   "cell_type": "markdown",
   "id": "21bda2e3-39c4-4e9a-92ab-55ce42ebbc03",
   "metadata": {},
   "source": [
    "提取不相邻元素的行or列"
   ]
  },
  {
   "cell_type": "code",
   "execution_count": 16,
   "id": "c4d8fb80-ab8d-4c59-8e5e-1998cfa1a3d4",
   "metadata": {},
   "outputs": [
    {
     "name": "stdout",
     "output_type": "stream",
     "text": [
      "    学号  班级  成绩\n",
      "小明  01  二班  92\n",
      "小丽  04  三班  88\n",
      "    学号  班级  成绩\n",
      "小明  01  二班  92\n",
      "小丽  04  三班  88\n"
     ]
    }
   ],
   "source": [
    "print(df2[df2[\"成绩\"] > 80])\n",
    "print(df2[df2.成绩 > 80])"
   ]
  },
  {
   "cell_type": "markdown",
   "id": "9ed722bb-123c-4619-88c8-0cddb64a7ff8",
   "metadata": {},
   "source": [
    "筛选符合条件的行（行表示一个实例，而列表示每个实例的属性，所以是筛选行）"
   ]
  },
  {
   "cell_type": "code",
   "execution_count": 17,
   "id": "b539b336-d0f8-4b34-a061-585e151333ec",
   "metadata": {},
   "outputs": [
    {
     "data": {
      "text/html": [
       "<div>\n",
       "<style scoped>\n",
       "    .dataframe tbody tr th:only-of-type {\n",
       "        vertical-align: middle;\n",
       "    }\n",
       "\n",
       "    .dataframe tbody tr th {\n",
       "        vertical-align: top;\n",
       "    }\n",
       "\n",
       "    .dataframe thead th {\n",
       "        text-align: right;\n",
       "    }\n",
       "</style>\n",
       "<table border=\"1\" class=\"dataframe\">\n",
       "  <thead>\n",
       "    <tr style=\"text-align: right;\">\n",
       "      <th></th>\n",
       "      <th>学号</th>\n",
       "      <th>班级</th>\n",
       "      <th>成绩</th>\n",
       "    </tr>\n",
       "  </thead>\n",
       "  <tbody>\n",
       "    <tr>\n",
       "      <th>小明</th>\n",
       "      <td>01</td>\n",
       "      <td>二班</td>\n",
       "      <td>92</td>\n",
       "    </tr>\n",
       "    <tr>\n",
       "      <th>小红</th>\n",
       "      <td>02</td>\n",
       "      <td>一班</td>\n",
       "      <td>67</td>\n",
       "    </tr>\n",
       "    <tr>\n",
       "      <th>小杰</th>\n",
       "      <td>03</td>\n",
       "      <td>二班</td>\n",
       "      <td>70</td>\n",
       "    </tr>\n",
       "    <tr>\n",
       "      <th>小丽</th>\n",
       "      <td>04</td>\n",
       "      <td>三班</td>\n",
       "      <td>88</td>\n",
       "    </tr>\n",
       "    <tr>\n",
       "      <th>小华</th>\n",
       "      <td>05</td>\n",
       "      <td>一班</td>\n",
       "      <td>76</td>\n",
       "    </tr>\n",
       "  </tbody>\n",
       "</table>\n",
       "</div>"
      ],
      "text/plain": [
       "    学号  班级  成绩\n",
       "小明  01  二班  92\n",
       "小红  02  一班  67\n",
       "小杰  03  二班  70\n",
       "小丽  04  三班  88\n",
       "小华  05  一班  76"
      ]
     },
     "execution_count": 17,
     "metadata": {},
     "output_type": "execute_result"
    }
   ],
   "source": [
    "df2.head()"
   ]
  },
  {
   "cell_type": "markdown",
   "id": "5e1c9407-b817-41ca-9ac5-991ebc14beed",
   "metadata": {},
   "source": [
    "head（）默认返回前五行，可以传入指定的行数值"
   ]
  },
  {
   "cell_type": "code",
   "execution_count": 18,
   "id": "f5030165-57a0-4253-9746-a2a0c8e71b14",
   "metadata": {},
   "outputs": [
    {
     "data": {
      "text/html": [
       "<div>\n",
       "<style scoped>\n",
       "    .dataframe tbody tr th:only-of-type {\n",
       "        vertical-align: middle;\n",
       "    }\n",
       "\n",
       "    .dataframe tbody tr th {\n",
       "        vertical-align: top;\n",
       "    }\n",
       "\n",
       "    .dataframe thead th {\n",
       "        text-align: right;\n",
       "    }\n",
       "</style>\n",
       "<table border=\"1\" class=\"dataframe\">\n",
       "  <thead>\n",
       "    <tr style=\"text-align: right;\">\n",
       "      <th></th>\n",
       "      <th>学号</th>\n",
       "      <th>班级</th>\n",
       "      <th>成绩</th>\n",
       "    </tr>\n",
       "  </thead>\n",
       "  <tbody>\n",
       "    <tr>\n",
       "      <th>小明</th>\n",
       "      <td>01</td>\n",
       "      <td>二班</td>\n",
       "      <td>92</td>\n",
       "    </tr>\n",
       "    <tr>\n",
       "      <th>小红</th>\n",
       "      <td>02</td>\n",
       "      <td>一班</td>\n",
       "      <td>67</td>\n",
       "    </tr>\n",
       "  </tbody>\n",
       "</table>\n",
       "</div>"
      ],
      "text/plain": [
       "    学号  班级  成绩\n",
       "小明  01  二班  92\n",
       "小红  02  一班  67"
      ]
     },
     "execution_count": 18,
     "metadata": {},
     "output_type": "execute_result"
    }
   ],
   "source": [
    "df2.head(2)"
   ]
  },
  {
   "cell_type": "code",
   "execution_count": 19,
   "id": "d95669fa-7780-4596-be36-b8b4a982daf5",
   "metadata": {},
   "outputs": [
    {
     "data": {
      "text/html": [
       "<div>\n",
       "<style scoped>\n",
       "    .dataframe tbody tr th:only-of-type {\n",
       "        vertical-align: middle;\n",
       "    }\n",
       "\n",
       "    .dataframe tbody tr th {\n",
       "        vertical-align: top;\n",
       "    }\n",
       "\n",
       "    .dataframe thead th {\n",
       "        text-align: right;\n",
       "    }\n",
       "</style>\n",
       "<table border=\"1\" class=\"dataframe\">\n",
       "  <thead>\n",
       "    <tr style=\"text-align: right;\">\n",
       "      <th></th>\n",
       "      <th>学号</th>\n",
       "      <th>班级</th>\n",
       "      <th>成绩</th>\n",
       "    </tr>\n",
       "  </thead>\n",
       "  <tbody>\n",
       "    <tr>\n",
       "      <th>0</th>\n",
       "      <td>01</td>\n",
       "      <td>二班</td>\n",
       "      <td>92</td>\n",
       "    </tr>\n",
       "    <tr>\n",
       "      <th>1</th>\n",
       "      <td>02</td>\n",
       "      <td>一班</td>\n",
       "      <td>67</td>\n",
       "    </tr>\n",
       "    <tr>\n",
       "      <th>2</th>\n",
       "      <td>03</td>\n",
       "      <td>二班</td>\n",
       "      <td>70</td>\n",
       "    </tr>\n",
       "    <tr>\n",
       "      <th>3</th>\n",
       "      <td>04</td>\n",
       "      <td>三班</td>\n",
       "      <td>88</td>\n",
       "    </tr>\n",
       "    <tr>\n",
       "      <th>4</th>\n",
       "      <td>05</td>\n",
       "      <td>一班</td>\n",
       "      <td>76</td>\n",
       "    </tr>\n",
       "  </tbody>\n",
       "</table>\n",
       "</div>"
      ],
      "text/plain": [
       "   学号  班级  成绩\n",
       "0  01  二班  92\n",
       "1  02  一班  67\n",
       "2  03  二班  70\n",
       "3  04  三班  88\n",
       "4  05  一班  76"
      ]
     },
     "execution_count": 19,
     "metadata": {},
     "output_type": "execute_result"
    }
   ],
   "source": [
    "df1"
   ]
  },
  {
   "cell_type": "markdown",
   "id": "1f097a70-8cfc-4b89-b227-27f17ee33f1a",
   "metadata": {},
   "source": [
    "## 以下是对dataframe的操作"
   ]
  },
  {
   "cell_type": "code",
   "execution_count": 20,
   "id": "15b705a9-575d-4b5b-974c-9b382b60c5fe",
   "metadata": {},
   "outputs": [
    {
     "data": {
      "text/html": [
       "<div>\n",
       "<style scoped>\n",
       "    .dataframe tbody tr th:only-of-type {\n",
       "        vertical-align: middle;\n",
       "    }\n",
       "\n",
       "    .dataframe tbody tr th {\n",
       "        vertical-align: top;\n",
       "    }\n",
       "\n",
       "    .dataframe thead th {\n",
       "        text-align: right;\n",
       "    }\n",
       "</style>\n",
       "<table border=\"1\" class=\"dataframe\">\n",
       "  <thead>\n",
       "    <tr style=\"text-align: right;\">\n",
       "      <th></th>\n",
       "      <th>学号</th>\n",
       "      <th>班级</th>\n",
       "      <th>成绩</th>\n",
       "    </tr>\n",
       "  </thead>\n",
       "  <tbody>\n",
       "    <tr>\n",
       "      <th>0</th>\n",
       "      <td>01</td>\n",
       "      <td>二班</td>\n",
       "      <td>90</td>\n",
       "    </tr>\n",
       "    <tr>\n",
       "      <th>1</th>\n",
       "      <td>02</td>\n",
       "      <td>一班</td>\n",
       "      <td>91</td>\n",
       "    </tr>\n",
       "    <tr>\n",
       "      <th>2</th>\n",
       "      <td>03</td>\n",
       "      <td>二班</td>\n",
       "      <td>83</td>\n",
       "    </tr>\n",
       "    <tr>\n",
       "      <th>3</th>\n",
       "      <td>04</td>\n",
       "      <td>三班</td>\n",
       "      <td>95</td>\n",
       "    </tr>\n",
       "    <tr>\n",
       "      <th>4</th>\n",
       "      <td>05</td>\n",
       "      <td>一班</td>\n",
       "      <td>94</td>\n",
       "    </tr>\n",
       "  </tbody>\n",
       "</table>\n",
       "</div>"
      ],
      "text/plain": [
       "   学号  班级  成绩\n",
       "0  01  二班  90\n",
       "1  02  一班  91\n",
       "2  03  二班  83\n",
       "3  04  三班  95\n",
       "4  05  一班  94"
      ]
     },
     "execution_count": 20,
     "metadata": {},
     "output_type": "execute_result"
    }
   ],
   "source": [
    "df1[\"成绩\"] = pd.Series([90, 91, 83, 95, 94])\n",
    "df1"
   ]
  },
  {
   "cell_type": "markdown",
   "id": "b3ea5d57-7c77-492d-905f-e3f6505f8309",
   "metadata": {},
   "source": [
    "更新dataframe的一列值（更新一个series）（注：若索引有标签，那么series也要有标签才能和dataframe的索引对齐，否则全为NaN）"
   ]
  },
  {
   "cell_type": "code",
   "execution_count": 21,
   "id": "757f66f8-2957-4f4b-aab3-41059959a989",
   "metadata": {},
   "outputs": [
    {
     "data": {
      "text/html": [
       "<div>\n",
       "<style scoped>\n",
       "    .dataframe tbody tr th:only-of-type {\n",
       "        vertical-align: middle;\n",
       "    }\n",
       "\n",
       "    .dataframe tbody tr th {\n",
       "        vertical-align: top;\n",
       "    }\n",
       "\n",
       "    .dataframe thead th {\n",
       "        text-align: right;\n",
       "    }\n",
       "</style>\n",
       "<table border=\"1\" class=\"dataframe\">\n",
       "  <thead>\n",
       "    <tr style=\"text-align: right;\">\n",
       "      <th></th>\n",
       "      <th>学号</th>\n",
       "      <th>班级</th>\n",
       "      <th>成绩</th>\n",
       "    </tr>\n",
       "  </thead>\n",
       "  <tbody>\n",
       "    <tr>\n",
       "      <th>0</th>\n",
       "      <td>01</td>\n",
       "      <td>二班</td>\n",
       "      <td>99</td>\n",
       "    </tr>\n",
       "    <tr>\n",
       "      <th>1</th>\n",
       "      <td>02</td>\n",
       "      <td>一班</td>\n",
       "      <td>89</td>\n",
       "    </tr>\n",
       "    <tr>\n",
       "      <th>2</th>\n",
       "      <td>03</td>\n",
       "      <td>二班</td>\n",
       "      <td>79</td>\n",
       "    </tr>\n",
       "    <tr>\n",
       "      <th>3</th>\n",
       "      <td>04</td>\n",
       "      <td>三班</td>\n",
       "      <td>98</td>\n",
       "    </tr>\n",
       "    <tr>\n",
       "      <th>4</th>\n",
       "      <td>05</td>\n",
       "      <td>一班</td>\n",
       "      <td>65</td>\n",
       "    </tr>\n",
       "  </tbody>\n",
       "</table>\n",
       "</div>"
      ],
      "text/plain": [
       "   学号  班级  成绩\n",
       "0  01  二班  99\n",
       "1  02  一班  89\n",
       "2  03  二班  79\n",
       "3  04  三班  98\n",
       "4  05  一班  65"
      ]
     },
     "execution_count": 21,
     "metadata": {},
     "output_type": "execute_result"
    }
   ],
   "source": [
    "df1[\"成绩\"]= [99,89,79,98,65]\n",
    "df1"
   ]
  },
  {
   "cell_type": "markdown",
   "id": "e68ac144-761b-4813-a3a5-2f9de38a3010",
   "metadata": {},
   "source": [
    "用Python的列表修改也行"
   ]
  },
  {
   "cell_type": "code",
   "execution_count": 22,
   "id": "592457c3-8c39-4a6e-af96-4b67217dbf15",
   "metadata": {},
   "outputs": [
    {
     "data": {
      "text/html": [
       "<div>\n",
       "<style scoped>\n",
       "    .dataframe tbody tr th:only-of-type {\n",
       "        vertical-align: middle;\n",
       "    }\n",
       "\n",
       "    .dataframe tbody tr th {\n",
       "        vertical-align: top;\n",
       "    }\n",
       "\n",
       "    .dataframe thead th {\n",
       "        text-align: right;\n",
       "    }\n",
       "</style>\n",
       "<table border=\"1\" class=\"dataframe\">\n",
       "  <thead>\n",
       "    <tr style=\"text-align: right;\">\n",
       "      <th></th>\n",
       "      <th>学号</th>\n",
       "      <th>班级</th>\n",
       "      <th>成绩</th>\n",
       "      <th>姓名</th>\n",
       "    </tr>\n",
       "  </thead>\n",
       "  <tbody>\n",
       "    <tr>\n",
       "      <th>0</th>\n",
       "      <td>01</td>\n",
       "      <td>二班</td>\n",
       "      <td>99</td>\n",
       "      <td>小明</td>\n",
       "    </tr>\n",
       "    <tr>\n",
       "      <th>1</th>\n",
       "      <td>02</td>\n",
       "      <td>一班</td>\n",
       "      <td>89</td>\n",
       "      <td>小红</td>\n",
       "    </tr>\n",
       "    <tr>\n",
       "      <th>2</th>\n",
       "      <td>03</td>\n",
       "      <td>二班</td>\n",
       "      <td>79</td>\n",
       "      <td>小刚</td>\n",
       "    </tr>\n",
       "    <tr>\n",
       "      <th>3</th>\n",
       "      <td>04</td>\n",
       "      <td>三班</td>\n",
       "      <td>98</td>\n",
       "      <td>小丽</td>\n",
       "    </tr>\n",
       "    <tr>\n",
       "      <th>4</th>\n",
       "      <td>05</td>\n",
       "      <td>一班</td>\n",
       "      <td>65</td>\n",
       "      <td>小李</td>\n",
       "    </tr>\n",
       "  </tbody>\n",
       "</table>\n",
       "</div>"
      ],
      "text/plain": [
       "   学号  班级  成绩  姓名\n",
       "0  01  二班  99  小明\n",
       "1  02  一班  89  小红\n",
       "2  03  二班  79  小刚\n",
       "3  04  三班  98  小丽\n",
       "4  05  一班  65  小李"
      ]
     },
     "execution_count": 22,
     "metadata": {},
     "output_type": "execute_result"
    }
   ],
   "source": [
    "df1[\"姓名\"]= [\"小明\",\"小红\",\"小刚\",\"小丽\",\"小李\"]\n",
    "df1"
   ]
  },
  {
   "cell_type": "markdown",
   "id": "24a644ca-cb22-4b86-9296-26d782ff13f6",
   "metadata": {},
   "source": [
    "若索引之前没有，会自动新建一个"
   ]
  },
  {
   "cell_type": "code",
   "execution_count": 23,
   "id": "586b9910-8221-4f70-8a7e-aca06e4354b4",
   "metadata": {},
   "outputs": [
    {
     "data": {
      "text/html": [
       "<div>\n",
       "<style scoped>\n",
       "    .dataframe tbody tr th:only-of-type {\n",
       "        vertical-align: middle;\n",
       "    }\n",
       "\n",
       "    .dataframe tbody tr th {\n",
       "        vertical-align: top;\n",
       "    }\n",
       "\n",
       "    .dataframe thead th {\n",
       "        text-align: right;\n",
       "    }\n",
       "</style>\n",
       "<table border=\"1\" class=\"dataframe\">\n",
       "  <thead>\n",
       "    <tr style=\"text-align: right;\">\n",
       "      <th></th>\n",
       "      <th>学号</th>\n",
       "      <th>班级</th>\n",
       "      <th>成绩</th>\n",
       "      <th>姓名</th>\n",
       "    </tr>\n",
       "  </thead>\n",
       "  <tbody>\n",
       "    <tr>\n",
       "      <th>0</th>\n",
       "      <td>01</td>\n",
       "      <td>三班</td>\n",
       "      <td>88</td>\n",
       "      <td>小明</td>\n",
       "    </tr>\n",
       "    <tr>\n",
       "      <th>1</th>\n",
       "      <td>02</td>\n",
       "      <td>一班</td>\n",
       "      <td>89</td>\n",
       "      <td>小红</td>\n",
       "    </tr>\n",
       "    <tr>\n",
       "      <th>2</th>\n",
       "      <td>03</td>\n",
       "      <td>二班</td>\n",
       "      <td>79</td>\n",
       "      <td>小刚</td>\n",
       "    </tr>\n",
       "    <tr>\n",
       "      <th>3</th>\n",
       "      <td>04</td>\n",
       "      <td>三班</td>\n",
       "      <td>98</td>\n",
       "      <td>小丽</td>\n",
       "    </tr>\n",
       "    <tr>\n",
       "      <th>4</th>\n",
       "      <td>05</td>\n",
       "      <td>一班</td>\n",
       "      <td>65</td>\n",
       "      <td>小李</td>\n",
       "    </tr>\n",
       "  </tbody>\n",
       "</table>\n",
       "</div>"
      ],
      "text/plain": [
       "   学号  班级  成绩  姓名\n",
       "0  01  三班  88  小明\n",
       "1  02  一班  89  小红\n",
       "2  03  二班  79  小刚\n",
       "3  04  三班  98  小丽\n",
       "4  05  一班  65  小李"
      ]
     },
     "execution_count": 23,
     "metadata": {},
     "output_type": "execute_result"
    }
   ],
   "source": [
    "df1.loc[0] = pd.Series([\"01\",\"三班\",88,\"小明\"], index=[\"学号\",\"班级\",\"成绩\",\"姓名\"])\n",
    "df1"
   ]
  },
  {
   "cell_type": "markdown",
   "id": "47fc8e4b-a823-4194-94de-75597558a99e",
   "metadata": {},
   "source": [
    "修改行，也要记得加索引标签，否则全为NAN"
   ]
  },
  {
   "cell_type": "code",
   "execution_count": 25,
   "id": "5beac0fd-c31d-4a2d-9f14-ec5852faff9c",
   "metadata": {},
   "outputs": [
    {
     "data": {
      "text/html": [
       "<div>\n",
       "<style scoped>\n",
       "    .dataframe tbody tr th:only-of-type {\n",
       "        vertical-align: middle;\n",
       "    }\n",
       "\n",
       "    .dataframe tbody tr th {\n",
       "        vertical-align: top;\n",
       "    }\n",
       "\n",
       "    .dataframe thead th {\n",
       "        text-align: right;\n",
       "    }\n",
       "</style>\n",
       "<table border=\"1\" class=\"dataframe\">\n",
       "  <thead>\n",
       "    <tr style=\"text-align: right;\">\n",
       "      <th></th>\n",
       "      <th>学号</th>\n",
       "      <th>班级</th>\n",
       "      <th>成绩</th>\n",
       "      <th>姓名</th>\n",
       "    </tr>\n",
       "  </thead>\n",
       "  <tbody>\n",
       "    <tr>\n",
       "      <th>0</th>\n",
       "      <td>01</td>\n",
       "      <td>三班</td>\n",
       "      <td>78</td>\n",
       "      <td>小明</td>\n",
       "    </tr>\n",
       "    <tr>\n",
       "      <th>1</th>\n",
       "      <td>02</td>\n",
       "      <td>一班</td>\n",
       "      <td>89</td>\n",
       "      <td>小红</td>\n",
       "    </tr>\n",
       "    <tr>\n",
       "      <th>2</th>\n",
       "      <td>03</td>\n",
       "      <td>二班</td>\n",
       "      <td>79</td>\n",
       "      <td>小刚</td>\n",
       "    </tr>\n",
       "    <tr>\n",
       "      <th>3</th>\n",
       "      <td>04</td>\n",
       "      <td>三班</td>\n",
       "      <td>98</td>\n",
       "      <td>小丽</td>\n",
       "    </tr>\n",
       "    <tr>\n",
       "      <th>4</th>\n",
       "      <td>05</td>\n",
       "      <td>一班</td>\n",
       "      <td>65</td>\n",
       "      <td>小李</td>\n",
       "    </tr>\n",
       "  </tbody>\n",
       "</table>\n",
       "</div>"
      ],
      "text/plain": [
       "   学号  班级  成绩  姓名\n",
       "0  01  三班  78  小明\n",
       "1  02  一班  89  小红\n",
       "2  03  二班  79  小刚\n",
       "3  04  三班  98  小丽\n",
       "4  05  一班  65  小李"
      ]
     },
     "execution_count": 25,
     "metadata": {},
     "output_type": "execute_result"
    }
   ],
   "source": [
    "df1.loc[0] = [\"01\",\"三班\",78,\"小明\"]\n",
    "df1"
   ]
  },
  {
   "cell_type": "markdown",
   "id": "e4bb2a9e-d8c5-49da-872a-80de33023788",
   "metadata": {},
   "source": [
    "用列表更省事，直接按顺序对齐"
   ]
  },
  {
   "cell_type": "code",
   "execution_count": 27,
   "id": "4d0c098b-3c79-49bf-aa37-c73a89b69644",
   "metadata": {},
   "outputs": [
    {
     "data": {
      "text/html": [
       "<div>\n",
       "<style scoped>\n",
       "    .dataframe tbody tr th:only-of-type {\n",
       "        vertical-align: middle;\n",
       "    }\n",
       "\n",
       "    .dataframe tbody tr th {\n",
       "        vertical-align: top;\n",
       "    }\n",
       "\n",
       "    .dataframe thead th {\n",
       "        text-align: right;\n",
       "    }\n",
       "</style>\n",
       "<table border=\"1\" class=\"dataframe\">\n",
       "  <thead>\n",
       "    <tr style=\"text-align: right;\">\n",
       "      <th></th>\n",
       "      <th>学号</th>\n",
       "      <th>班级</th>\n",
       "      <th>成绩</th>\n",
       "      <th>姓名</th>\n",
       "    </tr>\n",
       "  </thead>\n",
       "  <tbody>\n",
       "    <tr>\n",
       "      <th>0</th>\n",
       "      <td>01</td>\n",
       "      <td>三班</td>\n",
       "      <td>78</td>\n",
       "      <td>小明</td>\n",
       "    </tr>\n",
       "    <tr>\n",
       "      <th>1</th>\n",
       "      <td>02</td>\n",
       "      <td>一班</td>\n",
       "      <td>89</td>\n",
       "      <td>小红</td>\n",
       "    </tr>\n",
       "    <tr>\n",
       "      <th>2</th>\n",
       "      <td>03</td>\n",
       "      <td>二班</td>\n",
       "      <td>79</td>\n",
       "      <td>小刚</td>\n",
       "    </tr>\n",
       "    <tr>\n",
       "      <th>3</th>\n",
       "      <td>04</td>\n",
       "      <td>三班</td>\n",
       "      <td>98</td>\n",
       "      <td>小丽</td>\n",
       "    </tr>\n",
       "    <tr>\n",
       "      <th>4</th>\n",
       "      <td>05</td>\n",
       "      <td>一班</td>\n",
       "      <td>65</td>\n",
       "      <td>小李</td>\n",
       "    </tr>\n",
       "    <tr>\n",
       "      <th>5</th>\n",
       "      <td>06</td>\n",
       "      <td>三班</td>\n",
       "      <td>88</td>\n",
       "      <td>小将</td>\n",
       "    </tr>\n",
       "    <tr>\n",
       "      <th>6</th>\n",
       "      <td>07</td>\n",
       "      <td>三班</td>\n",
       "      <td>78</td>\n",
       "      <td>小月</td>\n",
       "    </tr>\n",
       "  </tbody>\n",
       "</table>\n",
       "</div>"
      ],
      "text/plain": [
       "   学号  班级  成绩  姓名\n",
       "0  01  三班  78  小明\n",
       "1  02  一班  89  小红\n",
       "2  03  二班  79  小刚\n",
       "3  04  三班  98  小丽\n",
       "4  05  一班  65  小李\n",
       "5  06  三班  88  小将\n",
       "6  07  三班  78  小月"
      ]
     },
     "execution_count": 27,
     "metadata": {},
     "output_type": "execute_result"
    }
   ],
   "source": [
    "df1.loc[5] = pd.Series([\"06\",\"三班\",88,\"小将\"], index=[\"学号\",\"班级\",\"成绩\",\"姓名\"])\n",
    "df1.loc[6] = [\"07\",\"三班\",78,\"小月\"]\n",
    "df1"
   ]
  },
  {
   "cell_type": "markdown",
   "id": "31a37e96-b692-4100-9a2e-f2b8363cd8a2",
   "metadata": {},
   "source": [
    "创建一行的两种方法（注：iloc无效）"
   ]
  },
  {
   "cell_type": "code",
   "execution_count": 49,
   "id": "7d3ce6aa-e444-4aae-8bf2-d1d0c2296993",
   "metadata": {},
   "outputs": [
    {
     "name": "stdout",
     "output_type": "stream",
     "text": [
      "   学号  班级    成绩  姓名\n",
      "0  01  三班  78.0  小明\n",
      "1  02  一班  89.0  小红\n",
      "2  03  二班  79.0  小刚\n",
      "4  05  一班  65.0  小李\n",
      "5  06  三班  88.0  小将\n",
      "6  07  三班  78.0  小月\n",
      "   学号  班级    成绩  姓名\n",
      "0  01  三班  78.0  小明\n",
      "1  02  一班  89.0  小红\n",
      "2  03  二班  79.0  小刚\n",
      "3  04  三班  98.0  小丽\n",
      "4  05  一班  65.0  小李\n"
     ]
    }
   ],
   "source": [
    "print(df1.drop(3))\n",
    "print(df1.drop([5,6]))"
   ]
  },
  {
   "cell_type": "markdown",
   "id": "55a858e8-62a1-49dd-b23c-60ba666aff07",
   "metadata": {},
   "source": [
    "删除一行用drop方法，删除多行用列表,不改变原dataframe"
   ]
  },
  {
   "cell_type": "code",
   "execution_count": 52,
   "id": "3482ba65-5222-438a-92f4-e49ef6b97e8e",
   "metadata": {},
   "outputs": [
    {
     "name": "stdout",
     "output_type": "stream",
     "text": [
      "   班级    成绩  姓名\n",
      "0  三班  78.0  小明\n",
      "1  一班  89.0  小红\n",
      "2  二班  79.0  小刚\n",
      "3  三班  98.0  小丽\n",
      "4  一班  65.0  小李\n",
      "5  三班  88.0  小将\n",
      "6  三班  78.0  小月\n",
      "     成绩  姓名\n",
      "0  78.0  小明\n",
      "1  89.0  小红\n",
      "2  79.0  小刚\n",
      "3  98.0  小丽\n",
      "4  65.0  小李\n",
      "5  88.0  小将\n",
      "6  78.0  小月\n"
     ]
    }
   ],
   "source": [
    "print(df1.drop(\"学号\",axis=1))\n",
    "print(df1.drop([\"学号\",\"班级\"], axis=1))"
   ]
  },
  {
   "cell_type": "markdown",
   "id": "ee47526d-1ae3-4819-9522-c346c8a82cb6",
   "metadata": {},
   "source": [
    "删除一列用drop（\"列名\", axis=1）(axis是轴线的意思，0位纵向操作，1是横向操作)"
   ]
  },
  {
   "cell_type": "markdown",
   "id": "c9b53910-5872-4228-86eb-4e9985af30f7",
   "metadata": {},
   "source": [
    "# 以下是dataframe之间的操作"
   ]
  },
  {
   "cell_type": "code",
   "execution_count": 54,
   "id": "723b38e8-e1bb-46bc-bfa2-c078a946f564",
   "metadata": {},
   "outputs": [
    {
     "data": {
      "text/html": [
       "<div>\n",
       "<style scoped>\n",
       "    .dataframe tbody tr th:only-of-type {\n",
       "        vertical-align: middle;\n",
       "    }\n",
       "\n",
       "    .dataframe tbody tr th {\n",
       "        vertical-align: top;\n",
       "    }\n",
       "\n",
       "    .dataframe thead th {\n",
       "        text-align: right;\n",
       "    }\n",
       "</style>\n",
       "<table border=\"1\" class=\"dataframe\">\n",
       "  <thead>\n",
       "    <tr style=\"text-align: right;\">\n",
       "      <th></th>\n",
       "      <th>学号</th>\n",
       "      <th>班级</th>\n",
       "      <th>成绩</th>\n",
       "      <th>姓名</th>\n",
       "    </tr>\n",
       "  </thead>\n",
       "  <tbody>\n",
       "    <tr>\n",
       "      <th>0</th>\n",
       "      <td>0101</td>\n",
       "      <td>三班三班</td>\n",
       "      <td>156.0</td>\n",
       "      <td>小明小明</td>\n",
       "    </tr>\n",
       "    <tr>\n",
       "      <th>1</th>\n",
       "      <td>0202</td>\n",
       "      <td>一班一班</td>\n",
       "      <td>178.0</td>\n",
       "      <td>小红小红</td>\n",
       "    </tr>\n",
       "    <tr>\n",
       "      <th>2</th>\n",
       "      <td>0303</td>\n",
       "      <td>二班二班</td>\n",
       "      <td>158.0</td>\n",
       "      <td>小刚小刚</td>\n",
       "    </tr>\n",
       "    <tr>\n",
       "      <th>3</th>\n",
       "      <td>0404</td>\n",
       "      <td>三班三班</td>\n",
       "      <td>196.0</td>\n",
       "      <td>小丽小丽</td>\n",
       "    </tr>\n",
       "    <tr>\n",
       "      <th>4</th>\n",
       "      <td>0505</td>\n",
       "      <td>一班一班</td>\n",
       "      <td>130.0</td>\n",
       "      <td>小李小李</td>\n",
       "    </tr>\n",
       "    <tr>\n",
       "      <th>5</th>\n",
       "      <td>0606</td>\n",
       "      <td>三班三班</td>\n",
       "      <td>176.0</td>\n",
       "      <td>小将小将</td>\n",
       "    </tr>\n",
       "    <tr>\n",
       "      <th>6</th>\n",
       "      <td>0707</td>\n",
       "      <td>三班三班</td>\n",
       "      <td>156.0</td>\n",
       "      <td>小月小月</td>\n",
       "    </tr>\n",
       "  </tbody>\n",
       "</table>\n",
       "</div>"
      ],
      "text/plain": [
       "     学号    班级     成绩    姓名\n",
       "0  0101  三班三班  156.0  小明小明\n",
       "1  0202  一班一班  178.0  小红小红\n",
       "2  0303  二班二班  158.0  小刚小刚\n",
       "3  0404  三班三班  196.0  小丽小丽\n",
       "4  0505  一班一班  130.0  小李小李\n",
       "5  0606  三班三班  176.0  小将小将\n",
       "6  0707  三班三班  156.0  小月小月"
      ]
     },
     "execution_count": 54,
     "metadata": {},
     "output_type": "execute_result"
    }
   ],
   "source": [
    "df1.add(df1, fill_value=0)\n"
   ]
  },
  {
   "cell_type": "markdown",
   "id": "58b0b983-7278-4d7e-8bd0-6a533937c379",
   "metadata": {},
   "source": [
    "加减乘除add，sub，mul，div和series一样，相同的进行操作，缺少的是NAN，但是可以用fillvalue填充"
   ]
  },
  {
   "cell_type": "markdown",
   "id": "9d62890b-0500-434b-b0a6-e071ad034399",
   "metadata": {},
   "source": [
    "# dataframe和series进行操作（series的索引和dataframe的列名对齐，然后把操作运用在dataframe的每一行上对齐不了的就是NAN）"
   ]
  },
  {
   "cell_type": "code",
   "execution_count": 62,
   "id": "6c3ae3cc-c54c-4331-b520-e3483e9a08c4",
   "metadata": {},
   "outputs": [
    {
     "data": {
      "text/html": [
       "<div>\n",
       "<style scoped>\n",
       "    .dataframe tbody tr th:only-of-type {\n",
       "        vertical-align: middle;\n",
       "    }\n",
       "\n",
       "    .dataframe tbody tr th {\n",
       "        vertical-align: top;\n",
       "    }\n",
       "\n",
       "    .dataframe thead th {\n",
       "        text-align: right;\n",
       "    }\n",
       "</style>\n",
       "<table border=\"1\" class=\"dataframe\">\n",
       "  <thead>\n",
       "    <tr style=\"text-align: right;\">\n",
       "      <th></th>\n",
       "      <th>a</th>\n",
       "      <th>b</th>\n",
       "      <th>c</th>\n",
       "      <th>e</th>\n",
       "      <th>姓名</th>\n",
       "      <th>学号</th>\n",
       "      <th>成绩</th>\n",
       "      <th>班级</th>\n",
       "    </tr>\n",
       "  </thead>\n",
       "  <tbody>\n",
       "    <tr>\n",
       "      <th>0</th>\n",
       "      <td>NaN</td>\n",
       "      <td>NaN</td>\n",
       "      <td>NaN</td>\n",
       "      <td>NaN</td>\n",
       "      <td>NaN</td>\n",
       "      <td>NaN</td>\n",
       "      <td>31.2</td>\n",
       "      <td>NaN</td>\n",
       "    </tr>\n",
       "    <tr>\n",
       "      <th>1</th>\n",
       "      <td>NaN</td>\n",
       "      <td>NaN</td>\n",
       "      <td>NaN</td>\n",
       "      <td>NaN</td>\n",
       "      <td>NaN</td>\n",
       "      <td>NaN</td>\n",
       "      <td>35.6</td>\n",
       "      <td>NaN</td>\n",
       "    </tr>\n",
       "    <tr>\n",
       "      <th>2</th>\n",
       "      <td>NaN</td>\n",
       "      <td>NaN</td>\n",
       "      <td>NaN</td>\n",
       "      <td>NaN</td>\n",
       "      <td>NaN</td>\n",
       "      <td>NaN</td>\n",
       "      <td>31.6</td>\n",
       "      <td>NaN</td>\n",
       "    </tr>\n",
       "    <tr>\n",
       "      <th>3</th>\n",
       "      <td>NaN</td>\n",
       "      <td>NaN</td>\n",
       "      <td>NaN</td>\n",
       "      <td>NaN</td>\n",
       "      <td>NaN</td>\n",
       "      <td>NaN</td>\n",
       "      <td>39.2</td>\n",
       "      <td>NaN</td>\n",
       "    </tr>\n",
       "    <tr>\n",
       "      <th>4</th>\n",
       "      <td>NaN</td>\n",
       "      <td>NaN</td>\n",
       "      <td>NaN</td>\n",
       "      <td>NaN</td>\n",
       "      <td>NaN</td>\n",
       "      <td>NaN</td>\n",
       "      <td>26.0</td>\n",
       "      <td>NaN</td>\n",
       "    </tr>\n",
       "    <tr>\n",
       "      <th>5</th>\n",
       "      <td>NaN</td>\n",
       "      <td>NaN</td>\n",
       "      <td>NaN</td>\n",
       "      <td>NaN</td>\n",
       "      <td>NaN</td>\n",
       "      <td>NaN</td>\n",
       "      <td>35.2</td>\n",
       "      <td>NaN</td>\n",
       "    </tr>\n",
       "    <tr>\n",
       "      <th>6</th>\n",
       "      <td>NaN</td>\n",
       "      <td>NaN</td>\n",
       "      <td>NaN</td>\n",
       "      <td>NaN</td>\n",
       "      <td>NaN</td>\n",
       "      <td>NaN</td>\n",
       "      <td>31.2</td>\n",
       "      <td>NaN</td>\n",
       "    </tr>\n",
       "  </tbody>\n",
       "</table>\n",
       "</div>"
      ],
      "text/plain": [
       "    a   b   c   e   姓名   学号    成绩   班级\n",
       "0 NaN NaN NaN NaN  NaN  NaN  31.2  NaN\n",
       "1 NaN NaN NaN NaN  NaN  NaN  35.6  NaN\n",
       "2 NaN NaN NaN NaN  NaN  NaN  31.6  NaN\n",
       "3 NaN NaN NaN NaN  NaN  NaN  39.2  NaN\n",
       "4 NaN NaN NaN NaN  NaN  NaN  26.0  NaN\n",
       "5 NaN NaN NaN NaN  NaN  NaN  35.2  NaN\n",
       "6 NaN NaN NaN NaN  NaN  NaN  31.2  NaN"
      ]
     },
     "execution_count": 62,
     "metadata": {},
     "output_type": "execute_result"
    }
   ],
   "source": [
    "s1 = pd.Series([0.1,0.2,0.3,0.4,0.5], index=[\"a\",\"b\",\"c\",\"成绩\",\"e\"])\n",
    "s1 * df1"
   ]
  },
  {
   "cell_type": "code",
   "execution_count": 65,
   "id": "069ad0ee-2dba-424d-af26-e42b2ab9de75",
   "metadata": {},
   "outputs": [
    {
     "data": {
      "text/html": [
       "<div>\n",
       "<style scoped>\n",
       "    .dataframe tbody tr th:only-of-type {\n",
       "        vertical-align: middle;\n",
       "    }\n",
       "\n",
       "    .dataframe tbody tr th {\n",
       "        vertical-align: top;\n",
       "    }\n",
       "\n",
       "    .dataframe thead th {\n",
       "        text-align: right;\n",
       "    }\n",
       "</style>\n",
       "<table border=\"1\" class=\"dataframe\">\n",
       "  <thead>\n",
       "    <tr style=\"text-align: right;\">\n",
       "      <th></th>\n",
       "      <th>成绩</th>\n",
       "      <th>学号</th>\n",
       "    </tr>\n",
       "  </thead>\n",
       "  <tbody>\n",
       "    <tr>\n",
       "      <th>0</th>\n",
       "      <td>390.0</td>\n",
       "      <td>0101010101</td>\n",
       "    </tr>\n",
       "    <tr>\n",
       "      <th>1</th>\n",
       "      <td>445.0</td>\n",
       "      <td>0202020202</td>\n",
       "    </tr>\n",
       "    <tr>\n",
       "      <th>2</th>\n",
       "      <td>395.0</td>\n",
       "      <td>0303030303</td>\n",
       "    </tr>\n",
       "    <tr>\n",
       "      <th>3</th>\n",
       "      <td>490.0</td>\n",
       "      <td>0404040404</td>\n",
       "    </tr>\n",
       "    <tr>\n",
       "      <th>4</th>\n",
       "      <td>325.0</td>\n",
       "      <td>0505050505</td>\n",
       "    </tr>\n",
       "    <tr>\n",
       "      <th>5</th>\n",
       "      <td>440.0</td>\n",
       "      <td>0606060606</td>\n",
       "    </tr>\n",
       "    <tr>\n",
       "      <th>6</th>\n",
       "      <td>390.0</td>\n",
       "      <td>0707070707</td>\n",
       "    </tr>\n",
       "  </tbody>\n",
       "</table>\n",
       "</div>"
      ],
      "text/plain": [
       "      成绩          学号\n",
       "0  390.0  0101010101\n",
       "1  445.0  0202020202\n",
       "2  395.0  0303030303\n",
       "3  490.0  0404040404\n",
       "4  325.0  0505050505\n",
       "5  440.0  0606060606\n",
       "6  390.0  0707070707"
      ]
     },
     "execution_count": 65,
     "metadata": {},
     "output_type": "execute_result"
    }
   ],
   "source": [
    "5 * df1[[\"成绩\",\"学号\"]]"
   ]
  },
  {
   "cell_type": "code",
   "execution_count": 71,
   "id": "33cd8e7f-07ba-4592-b96e-16130a295f10",
   "metadata": {},
   "outputs": [
    {
     "data": {
      "text/html": [
       "<div>\n",
       "<style scoped>\n",
       "    .dataframe tbody tr th:only-of-type {\n",
       "        vertical-align: middle;\n",
       "    }\n",
       "\n",
       "    .dataframe tbody tr th {\n",
       "        vertical-align: top;\n",
       "    }\n",
       "\n",
       "    .dataframe thead th {\n",
       "        text-align: right;\n",
       "    }\n",
       "</style>\n",
       "<table border=\"1\" class=\"dataframe\">\n",
       "  <thead>\n",
       "    <tr style=\"text-align: right;\">\n",
       "      <th></th>\n",
       "      <th>选手1</th>\n",
       "      <th>选手2</th>\n",
       "      <th>选手3</th>\n",
       "    </tr>\n",
       "  </thead>\n",
       "  <tbody>\n",
       "    <tr>\n",
       "      <th>001</th>\n",
       "      <td>100</td>\n",
       "      <td>3.440</td>\n",
       "      <td>3423.3</td>\n",
       "    </tr>\n",
       "    <tr>\n",
       "      <th>002</th>\n",
       "      <td>232</td>\n",
       "      <td>32998.000</td>\n",
       "      <td>114514.0</td>\n",
       "    </tr>\n",
       "    <tr>\n",
       "      <th>003</th>\n",
       "      <td>333</td>\n",
       "      <td>5.365</td>\n",
       "      <td>520.0</td>\n",
       "    </tr>\n",
       "  </tbody>\n",
       "</table>\n",
       "</div>"
      ],
      "text/plain": [
       "     选手1        选手2       选手3\n",
       "001  100      3.440    3423.3\n",
       "002  232  32998.000  114514.0\n",
       "003  333      5.365     520.0"
      ]
     },
     "execution_count": 71,
     "metadata": {},
     "output_type": "execute_result"
    }
   ],
   "source": [
    "df3 = pd.DataFrame({\"选手1\":{\"001\":100,\"002\":232,\"003\":333},\n",
    "                   \"选手2\":{\"001\":3.44,\"002\":32998,\"003\":5.365},\n",
    "                    \"选手3\":{\"001\":3423.3,\"002\":114514,\"003\":520}})\n",
    "df3"
   ]
  },
  {
   "cell_type": "code",
   "execution_count": 74,
   "id": "c35809f3-8ad6-4071-a151-7f07ef54444b",
   "metadata": {},
   "outputs": [
    {
     "name": "stdout",
     "output_type": "stream",
     "text": [
      "选手1      221.666667\n",
      "选手2    11002.268333\n",
      "选手3    39485.766667\n",
      "dtype: float64\n",
      "选手1       333.0\n",
      "选手2     32998.0\n",
      "选手3    114514.0\n",
      "dtype: float64\n",
      "选手1    100.00\n",
      "选手2      3.44\n",
      "选手3    520.00\n",
      "dtype: float64\n",
      "选手1       665.000\n",
      "选手2     33006.805\n",
      "选手3    118457.300\n",
      "dtype: float64\n"
     ]
    }
   ],
   "source": [
    "print(df3.mean())\n",
    "print(df3.max())\n",
    "print(df3.min())\n",
    "print(df3.sum())"
   ]
  },
  {
   "cell_type": "code",
   "execution_count": 75,
   "id": "74a6fc01-1f07-4ec6-a5ed-c7c5363bad3b",
   "metadata": {},
   "outputs": [
    {
     "name": "stdout",
     "output_type": "stream",
     "text": [
      "001     1175.580000\n",
      "002    49248.000000\n",
      "003      286.121667\n",
      "dtype: float64\n",
      "001      3423.3\n",
      "002    114514.0\n",
      "003       520.0\n",
      "dtype: float64\n",
      "001      3.440\n",
      "002    232.000\n",
      "003      5.365\n",
      "dtype: float64\n",
      "001      3526.740\n",
      "002    147744.000\n",
      "003       858.365\n",
      "dtype: float64\n"
     ]
    }
   ],
   "source": [
    "print(df3.mean(axis=1))\n",
    "print(df3.max(axis=1))\n",
    "print(df3.min(axis=1))\n",
    "print(df3.sum(axis=1))"
   ]
  },
  {
   "cell_type": "markdown",
   "id": "cfa145b3-0a2c-45ee-b65b-ed8c47085638",
   "metadata": {},
   "source": [
    "以上为分别对列与对行进行求平均，求最大最小，求和"
   ]
  },
  {
   "cell_type": "code",
   "execution_count": 79,
   "id": "1de5b4a7-fda6-4a48-9ae1-55dcd4172690",
   "metadata": {},
   "outputs": [
    {
     "name": "stdout",
     "output_type": "stream",
     "text": [
      "选手1     232.000\n",
      "选手2       5.365\n",
      "选手3    3423.300\n",
      "dtype: float64\n",
      "001      100.0\n",
      "002    32998.0\n",
      "003      333.0\n",
      "dtype: float64\n"
     ]
    }
   ],
   "source": [
    "def pingjun(num):\n",
    "    num_len = len(num) - 2\n",
    "    num_max = num.max()\n",
    "    num_min = num.min()\n",
    "    num_sum = num.sum()\n",
    "    return (num_sum - num_max - num_min) / num_len\n",
    "    \n",
    "print(df3.apply(pingjun))\n",
    "print(df3.apply(pingjun, axis=1))"
   ]
  },
  {
   "cell_type": "markdown",
   "id": "1c5a4a7e-f895-4b56-b29f-7aad4f421a63",
   "metadata": {},
   "source": [
    "apply方法"
   ]
  },
  {
   "cell_type": "code",
   "execution_count": 82,
   "id": "a2a30d93-c20f-4732-a480-56b621784234",
   "metadata": {},
   "outputs": [
    {
     "data": {
      "text/html": [
       "<div>\n",
       "<style scoped>\n",
       "    .dataframe tbody tr th:only-of-type {\n",
       "        vertical-align: middle;\n",
       "    }\n",
       "\n",
       "    .dataframe tbody tr th {\n",
       "        vertical-align: top;\n",
       "    }\n",
       "\n",
       "    .dataframe thead th {\n",
       "        text-align: right;\n",
       "    }\n",
       "</style>\n",
       "<table border=\"1\" class=\"dataframe\">\n",
       "  <thead>\n",
       "    <tr style=\"text-align: right;\">\n",
       "      <th></th>\n",
       "      <th>选手1</th>\n",
       "      <th>选手2</th>\n",
       "      <th>选手3</th>\n",
       "    </tr>\n",
       "  </thead>\n",
       "  <tbody>\n",
       "    <tr>\n",
       "      <th>001</th>\n",
       "      <td>105</td>\n",
       "      <td>8.440</td>\n",
       "      <td>3428.3</td>\n",
       "    </tr>\n",
       "    <tr>\n",
       "      <th>002</th>\n",
       "      <td>237</td>\n",
       "      <td>33003.000</td>\n",
       "      <td>114519.0</td>\n",
       "    </tr>\n",
       "    <tr>\n",
       "      <th>003</th>\n",
       "      <td>338</td>\n",
       "      <td>10.365</td>\n",
       "      <td>525.0</td>\n",
       "    </tr>\n",
       "  </tbody>\n",
       "</table>\n",
       "</div>"
      ],
      "text/plain": [
       "     选手1        选手2       选手3\n",
       "001  105      8.440    3428.3\n",
       "002  237  33003.000  114519.0\n",
       "003  338     10.365     525.0"
      ]
     },
     "execution_count": 82,
     "metadata": {},
     "output_type": "execute_result"
    }
   ],
   "source": [
    "df3.map(lambda x : x + 5)"
   ]
  },
  {
   "cell_type": "markdown",
   "id": "cb818e76-9d07-4b45-9b54-91c0adc06922",
   "metadata": {},
   "source": [
    "map方法是对所有元素进行操作"
   ]
  },
  {
   "cell_type": "code",
   "execution_count": 85,
   "id": "de01e7d6-e36b-4693-8f70-b99b65b532b0",
   "metadata": {},
   "outputs": [
    {
     "data": {
      "text/html": [
       "<div>\n",
       "<style scoped>\n",
       "    .dataframe tbody tr th:only-of-type {\n",
       "        vertical-align: middle;\n",
       "    }\n",
       "\n",
       "    .dataframe tbody tr th {\n",
       "        vertical-align: top;\n",
       "    }\n",
       "\n",
       "    .dataframe thead th {\n",
       "        text-align: right;\n",
       "    }\n",
       "</style>\n",
       "<table border=\"1\" class=\"dataframe\">\n",
       "  <thead>\n",
       "    <tr style=\"text-align: right;\">\n",
       "      <th></th>\n",
       "      <th>选手1</th>\n",
       "      <th>选手2</th>\n",
       "      <th>选手3</th>\n",
       "    </tr>\n",
       "  </thead>\n",
       "  <tbody>\n",
       "    <tr>\n",
       "      <th>count</th>\n",
       "      <td>3.000000</td>\n",
       "      <td>3.000000</td>\n",
       "      <td>3.000000</td>\n",
       "    </tr>\n",
       "    <tr>\n",
       "      <th>mean</th>\n",
       "      <td>221.666667</td>\n",
       "      <td>11002.268333</td>\n",
       "      <td>39485.766667</td>\n",
       "    </tr>\n",
       "    <tr>\n",
       "      <th>std</th>\n",
       "      <td>116.843200</td>\n",
       "      <td>19048.862422</td>\n",
       "      <td>64992.569849</td>\n",
       "    </tr>\n",
       "    <tr>\n",
       "      <th>min</th>\n",
       "      <td>100.000000</td>\n",
       "      <td>3.440000</td>\n",
       "      <td>520.000000</td>\n",
       "    </tr>\n",
       "    <tr>\n",
       "      <th>25%</th>\n",
       "      <td>166.000000</td>\n",
       "      <td>4.402500</td>\n",
       "      <td>1971.650000</td>\n",
       "    </tr>\n",
       "    <tr>\n",
       "      <th>50%</th>\n",
       "      <td>232.000000</td>\n",
       "      <td>5.365000</td>\n",
       "      <td>3423.300000</td>\n",
       "    </tr>\n",
       "    <tr>\n",
       "      <th>75%</th>\n",
       "      <td>282.500000</td>\n",
       "      <td>16501.682500</td>\n",
       "      <td>58968.650000</td>\n",
       "    </tr>\n",
       "    <tr>\n",
       "      <th>max</th>\n",
       "      <td>333.000000</td>\n",
       "      <td>32998.000000</td>\n",
       "      <td>114514.000000</td>\n",
       "    </tr>\n",
       "  </tbody>\n",
       "</table>\n",
       "</div>"
      ],
      "text/plain": [
       "              选手1           选手2            选手3\n",
       "count    3.000000      3.000000       3.000000\n",
       "mean   221.666667  11002.268333   39485.766667\n",
       "std    116.843200  19048.862422   64992.569849\n",
       "min    100.000000      3.440000     520.000000\n",
       "25%    166.000000      4.402500    1971.650000\n",
       "50%    232.000000      5.365000    3423.300000\n",
       "75%    282.500000  16501.682500   58968.650000\n",
       "max    333.000000  32998.000000  114514.000000"
      ]
     },
     "execution_count": 85,
     "metadata": {},
     "output_type": "execute_result"
    }
   ],
   "source": [
    "df3.describe()"
   ]
  },
  {
   "cell_type": "markdown",
   "id": "35c1b0ea-ba82-49b7-9b9e-3b7fd7c472bb",
   "metadata": {},
   "source": [
    "自动统计非数字列信息"
   ]
  },
  {
   "cell_type": "code",
   "execution_count": null,
   "id": "c60cc45b-2de2-407d-830d-2f72a980ddc0",
   "metadata": {},
   "outputs": [],
   "source": []
  },
  {
   "cell_type": "code",
   "execution_count": null,
   "id": "cde7da80-0e94-438b-8c3a-56d71a17cef0",
   "metadata": {},
   "outputs": [],
   "source": []
  },
  {
   "cell_type": "code",
   "execution_count": null,
   "id": "9f2de950-d3c2-48a2-93d4-e0b309f5a564",
   "metadata": {},
   "outputs": [],
   "source": []
  },
  {
   "cell_type": "code",
   "execution_count": null,
   "id": "aa979218-f986-4fdd-a372-c8baac961c26",
   "metadata": {},
   "outputs": [],
   "source": []
  },
  {
   "cell_type": "code",
   "execution_count": null,
   "id": "4b3cc7d7-e7d9-4e8f-928f-26a124d7392e",
   "metadata": {},
   "outputs": [],
   "source": []
  }
 ],
 "metadata": {
  "kernelspec": {
   "display_name": "Python 3 (ipykernel)",
   "language": "python",
   "name": "python3"
  },
  "language_info": {
   "codemirror_mode": {
    "name": "ipython",
    "version": 3
   },
   "file_extension": ".py",
   "mimetype": "text/x-python",
   "name": "python",
   "nbconvert_exporter": "python",
   "pygments_lexer": "ipython3",
   "version": "3.13.1"
  }
 },
 "nbformat": 4,
 "nbformat_minor": 5
}
