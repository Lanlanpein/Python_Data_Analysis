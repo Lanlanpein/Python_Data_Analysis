{
 "cells": [
  {
   "cell_type": "code",
   "execution_count": 1,
   "id": "bf8ea4ca-e56c-46cd-b348-3286a33f28e3",
   "metadata": {},
   "outputs": [],
   "source": [
    "import pandas as pd"
   ]
  },
  {
   "cell_type": "code",
   "execution_count": 2,
   "id": "bd089199-7f85-4a05-8ac2-b116d692abdd",
   "metadata": {},
   "outputs": [
    {
     "data": {
      "text/plain": [
       "0     5\n",
       "1    17\n",
       "2     3\n",
       "3    26\n",
       "4    31\n",
       "dtype: int64"
      ]
     },
     "execution_count": 2,
     "metadata": {},
     "output_type": "execute_result"
    }
   ],
   "source": [
    "s1 = pd.Series([5,17,3,26,31])\n",
    "s1"
   ]
  },
  {
   "cell_type": "markdown",
   "id": "7866435d-66b5-45da-ad45-623efcfae2f9",
   "metadata": {},
   "source": [
    "Series方法构造函数，输出索引和元素，最后一行是种类"
   ]
  },
  {
   "cell_type": "code",
   "execution_count": 3,
   "id": "f28800f0-57c3-4102-be29-32a63664bb91",
   "metadata": {},
   "outputs": [
    {
     "name": "stdout",
     "output_type": "stream",
     "text": [
      "[ 5 17  3 26 31]\n",
      "RangeIndex(start=0, stop=5, step=1)\n"
     ]
    }
   ],
   "source": [
    "print(s1.values)\n",
    "print(s1.index)\n"
   ]
  },
  {
   "cell_type": "markdown",
   "id": "788a2f4f-e957-4b02-8078-17d6031daaf1",
   "metadata": {},
   "source": [
    "values方法只传回数组元素\n",
    "\n",
    "index方法只传回索引值（0开始到5结束不包括5，每步为1）"
   ]
  },
  {
   "cell_type": "code",
   "execution_count": 4,
   "id": "5155f6c9-f41b-4cac-9d3b-3547c0322111",
   "metadata": {},
   "outputs": [
    {
     "name": "stdout",
     "output_type": "stream",
     "text": [
      "3\n",
      "2     3\n",
      "3    26\n",
      "4    31\n",
      "dtype: int64\n"
     ]
    }
   ],
   "source": [
    "print(s1[2])\n",
    "print(s1[2:5])\n"
   ]
  },
  {
   "cell_type": "markdown",
   "id": "93f9c605-030f-4c6c-9622-a94de60fe27d",
   "metadata": {},
   "source": [
    "索引、切片和numpy一样"
   ]
  },
  {
   "cell_type": "markdown",
   "id": "7e279365-b9ac-41e3-b54c-214f942f4278",
   "metadata": {},
   "source": [
    "# **接下来是pandas的特别之处**"
   ]
  },
  {
   "cell_type": "code",
   "execution_count": 5,
   "id": "19ca6cf5-afdc-4ce1-a997-94d10126be79",
   "metadata": {},
   "outputs": [
    {
     "data": {
      "text/plain": [
       "a      5\n",
       "b     17\n",
       "c      4\n",
       "d      3\n",
       "e    222\n",
       "dtype: int64"
      ]
     },
     "execution_count": 5,
     "metadata": {},
     "output_type": "execute_result"
    }
   ],
   "source": [
    "s2 = pd.Series([5,17,4,3,222], index=[\"a\", \"b\", \"c\", \"d\", \"e\"])\n",
    "s2"
   ]
  },
  {
   "cell_type": "markdown",
   "id": "d7262fd2-5e61-4e1c-85fd-f3458079fbdd",
   "metadata": {},
   "source": [
    "可以修改索引名"
   ]
  },
  {
   "cell_type": "code",
   "execution_count": 6,
   "id": "2348dc84-f2e2-495e-9a64-4647d99544cb",
   "metadata": {},
   "outputs": [
    {
     "name": "stdout",
     "output_type": "stream",
     "text": [
      "4\n",
      "4\n",
      "a     5\n",
      "b    17\n",
      "c     4\n",
      "dtype: int64\n"
     ]
    },
    {
     "name": "stderr",
     "output_type": "stream",
     "text": [
      "C:\\Users\\lenovo\\AppData\\Local\\Temp\\ipykernel_36228\\4070878832.py:1: FutureWarning: Series.__getitem__ treating keys as positions is deprecated. In a future version, integer keys will always be treated as labels (consistent with DataFrame behavior). To access a value by position, use `ser.iloc[pos]`\n",
      "  print(s2[2])\n"
     ]
    }
   ],
   "source": [
    "print(s2[2])\n",
    "print(s2[\"c\"])\n",
    "print(s2[\"a\":\"c\"])"
   ]
  },
  {
   "cell_type": "markdown",
   "id": "e98ec27f-5355-4160-8e35-9c359bbf9d55",
   "metadata": {},
   "source": [
    "原先的索引依旧有用：标签索引（标签切片最后会包含）、位置索引"
   ]
  },
  {
   "cell_type": "code",
   "execution_count": 7,
   "id": "e2392af5-8d8b-44bc-95a0-6709734ff5d5",
   "metadata": {},
   "outputs": [
    {
     "data": {
      "text/plain": [
       "5    1\n",
       "7    2\n",
       "3    3\n",
       "4    4\n",
       "6    5\n",
       "dtype: int64"
      ]
     },
     "execution_count": 7,
     "metadata": {},
     "output_type": "execute_result"
    }
   ],
   "source": [
    "s3 = pd.Series([1,2,3,4,5], index=[5,7,3,4,6])\n",
    "s3"
   ]
  },
  {
   "cell_type": "markdown",
   "id": "680af337-79ec-4528-a6db-084a1fb7a224",
   "metadata": {},
   "source": [
    "数字也可以作为索引，但取值索引时按标签索引，切片索引用位置索引"
   ]
  },
  {
   "cell_type": "code",
   "execution_count": 8,
   "id": "a32d5d71-900c-432e-bc2a-5d030d1e3300",
   "metadata": {},
   "outputs": [
    {
     "name": "stdout",
     "output_type": "stream",
     "text": [
      "7    2\n",
      "3    3\n",
      "dtype: int64\n",
      "7    2\n",
      "3    3\n",
      "4    4\n",
      "dtype: int64\n"
     ]
    }
   ],
   "source": [
    "print(s3.loc[7:3])\n",
    "print(s3.iloc[1:4])"
   ]
  },
  {
   "cell_type": "markdown",
   "id": "f470cf9f-8ac0-4750-903e-07b8ee34732f",
   "metadata": {},
   "source": [
    "loc：标签索引、iloc：切片索引"
   ]
  },
  {
   "cell_type": "code",
   "execution_count": 9,
   "id": "a2bcae74-aa69-4e50-99f0-7d3363d66496",
   "metadata": {},
   "outputs": [
    {
     "data": {
      "text/plain": [
       "你好    2.3\n",
       "再见    6.5\n",
       "dtype: float64"
      ]
     },
     "execution_count": 9,
     "metadata": {},
     "output_type": "execute_result"
    }
   ],
   "source": [
    "s4 = pd.Series({\"你好\":2.3,\"再见\":6.5})\n",
    "s4"
   ]
  },
  {
   "cell_type": "markdown",
   "id": "512bc0cf-77a2-4f88-a12f-e2d6cb2b7f83",
   "metadata": {},
   "source": [
    "通过字典也可以创建索引"
   ]
  },
  {
   "cell_type": "code",
   "execution_count": 10,
   "id": "b698325c-637f-4d67-88ee-b3af20d20dd5",
   "metadata": {},
   "outputs": [
    {
     "data": {
      "text/plain": [
       "True"
      ]
     },
     "execution_count": 10,
     "metadata": {},
     "output_type": "execute_result"
    }
   ],
   "source": [
    "\"你好\" in s4"
   ]
  },
  {
   "cell_type": "markdown",
   "id": "1ba52230-dd34-462e-a340-4f179e3d2ab6",
   "metadata": {},
   "source": [
    "查看标签是否存在"
   ]
  },
  {
   "cell_type": "code",
   "execution_count": 11,
   "id": "cb77306e-59e8-418b-9a00-1e1a6fa5b0d3",
   "metadata": {},
   "outputs": [
    {
     "data": {
      "text/plain": [
       "你好    6.1\n",
       "再见    6.5\n",
       "dtype: float64"
      ]
     },
     "execution_count": 11,
     "metadata": {},
     "output_type": "execute_result"
    }
   ],
   "source": [
    "s4[\"你好\"] = 6.1\n",
    "s4"
   ]
  },
  {
   "cell_type": "markdown",
   "id": "ffdcfb68-c959-4478-a2dc-abe10e5acbef",
   "metadata": {},
   "source": [
    "用标签修改里面的数据"
   ]
  },
  {
   "cell_type": "code",
   "execution_count": 12,
   "id": "a13a612c-3a8b-4223-882d-ca90f3d750fa",
   "metadata": {},
   "outputs": [
    {
     "data": {
      "text/plain": [
       "你好    6.1\n",
       "再见    6.5\n",
       "dtype: float64"
      ]
     },
     "execution_count": 12,
     "metadata": {},
     "output_type": "execute_result"
    }
   ],
   "source": [
    "s4.loc[\"你好\"] = 6.1\n",
    "s4"
   ]
  },
  {
   "cell_type": "markdown",
   "id": "2e4a271b-b6f4-4f51-ab4a-2b0a552b04f4",
   "metadata": {},
   "source": [
    "更规范的写法"
   ]
  },
  {
   "cell_type": "code",
   "execution_count": 13,
   "id": "39d3a3a1-2c0c-444f-b147-a571830431f5",
   "metadata": {},
   "outputs": [
    {
     "data": {
      "text/plain": [
       "3    3\n",
       "4    4\n",
       "6    5\n",
       "dtype: int64"
      ]
     },
     "execution_count": 13,
     "metadata": {},
     "output_type": "execute_result"
    }
   ],
   "source": [
    "s3[s3 > 2]"
   ]
  },
  {
   "cell_type": "markdown",
   "id": "d080e62c-f9f5-443b-ac90-08218d0035ad",
   "metadata": {},
   "source": [
    "# 条件索引和numpy一样"
   ]
  },
  {
   "cell_type": "markdown",
   "id": "fbae202a-957e-436c-b000-0f1ad030787d",
   "metadata": {},
   "source": [
    "# **接下来是Series操作**"
   ]
  },
  {
   "cell_type": "code",
   "execution_count": 14,
   "id": "ef4d5fb8-79b6-4239-a3ff-c9803f092300",
   "metadata": {},
   "outputs": [
    {
     "data": {
      "text/plain": [
       "0     5\n",
       "1    17\n",
       "2     3\n",
       "3    26\n",
       "4    31\n",
       "dtype: int64"
      ]
     },
     "execution_count": 14,
     "metadata": {},
     "output_type": "execute_result"
    }
   ],
   "source": [
    "s1"
   ]
  },
  {
   "cell_type": "code",
   "execution_count": 15,
   "id": "5c50b5e1-d73e-4133-8727-8ed616ba6462",
   "metadata": {},
   "outputs": [
    {
     "data": {
      "text/plain": [
       "5    1\n",
       "7    2\n",
       "3    3\n",
       "4    4\n",
       "6    5\n",
       "dtype: int64"
      ]
     },
     "execution_count": 15,
     "metadata": {},
     "output_type": "execute_result"
    }
   ],
   "source": [
    "s3"
   ]
  },
  {
   "cell_type": "code",
   "execution_count": 16,
   "id": "2db728b9-b838-492f-a1f9-2ba7682e5dcd",
   "metadata": {},
   "outputs": [
    {
     "data": {
      "text/plain": [
       "0           NaN\n",
       "1           NaN\n",
       "2           NaN\n",
       "3    103.884615\n",
       "4    154.870968\n",
       "5           NaN\n",
       "6           NaN\n",
       "7           NaN\n",
       "dtype: float64"
      ]
     },
     "execution_count": 16,
     "metadata": {},
     "output_type": "execute_result"
    }
   ],
   "source": [
    "s5 = s1 + s3 * s1 - s3 / s1\n",
    "s5"
   ]
  },
  {
   "cell_type": "markdown",
   "id": "568a2003-d506-4745-bcb2-4a82ae821246",
   "metadata": {},
   "source": [
    "series中数组可以根据标签四则运算，自动根据索引去**排序并对齐**，如果没有对应标签输出NAN"
   ]
  },
  {
   "cell_type": "code",
   "execution_count": 17,
   "id": "092b7d70-8ec3-49c0-a121-cc2afa28e8f3",
   "metadata": {},
   "outputs": [
    {
     "name": "stdout",
     "output_type": "stream",
     "text": [
      "0     5.0\n",
      "1    17.0\n",
      "2     3.0\n",
      "3    29.0\n",
      "4    35.0\n",
      "5     1.0\n",
      "6     5.0\n",
      "7     2.0\n",
      "dtype: float64 0     5.0\n",
      "1    17.0\n",
      "2     3.0\n",
      "3    23.0\n",
      "4    27.0\n",
      "5    -1.0\n",
      "6    -5.0\n",
      "7    -2.0\n",
      "dtype: float64 0      0.0\n",
      "1      0.0\n",
      "2      0.0\n",
      "3     78.0\n",
      "4    124.0\n",
      "5      0.0\n",
      "6      0.0\n",
      "7      0.0\n",
      "dtype: float64 0         inf\n",
      "1         inf\n",
      "2         inf\n",
      "3    8.666667\n",
      "4    7.750000\n",
      "5    0.000000\n",
      "6    0.000000\n",
      "7    0.000000\n",
      "dtype: float64\n"
     ]
    }
   ],
   "source": [
    "s6 = s1.add(s3, fill_value = 0)\n",
    "s7 = s1.sub(s3, fill_value = 0)\n",
    "s8 = s1.mul(s3, fill_value = 0)\n",
    "s9 = s1.div(s3, fill_value = 0)\n",
    "print(s6,s7,s8,s9)\n"
   ]
  },
  {
   "cell_type": "markdown",
   "id": "7093587f-305a-4392-bca4-8375a5ae17a9",
   "metadata": {},
   "source": [
    "add,sub,mul,div方法可以给NAN传入默认值"
   ]
  },
  {
   "cell_type": "code",
   "execution_count": 18,
   "id": "897478bd-55f6-4b42-a920-2067ba65df57",
   "metadata": {},
   "outputs": [
    {
     "name": "stdout",
     "output_type": "stream",
     "text": [
      "31\n",
      "3\n",
      "15\n",
      "6.3\n"
     ]
    }
   ],
   "source": [
    "print(s1.max())\n",
    "print(s2.min())\n",
    "print(s3.sum())\n",
    "print(s4.mean())"
   ]
  },
  {
   "cell_type": "markdown",
   "id": "25636449-d3bc-404e-9735-27b391fac700",
   "metadata": {},
   "source": [
    "最大、最小、求和、平均值"
   ]
  },
  {
   "cell_type": "code",
   "execution_count": 19,
   "id": "866d8433-9a18-490f-9d48-3facd81d292f",
   "metadata": {},
   "outputs": [
    {
     "data": {
      "text/plain": [
       "count     5.000000\n",
       "mean     16.400000\n",
       "std      12.401613\n",
       "min       3.000000\n",
       "25%       5.000000\n",
       "50%      17.000000\n",
       "75%      26.000000\n",
       "max      31.000000\n",
       "dtype: float64"
      ]
     },
     "execution_count": 19,
     "metadata": {},
     "output_type": "execute_result"
    }
   ],
   "source": [
    "s1.describe()"
   ]
  },
  {
   "cell_type": "markdown",
   "id": "19cfac5a-b1a0-466d-b069-19ca1d870505",
   "metadata": {},
   "source": [
    "describe可以统计元素个数、平均数、标准差、最小值、25%分位数，中位数，75%分位数、最大值"
   ]
  },
  {
   "cell_type": "code",
   "execution_count": 20,
   "id": "017d14b7-d18e-4e25-bf8b-eb2431ed2d65",
   "metadata": {},
   "outputs": [
    {
     "data": {
      "text/plain": [
       "0    15\n",
       "1    51\n",
       "2     9\n",
       "3    78\n",
       "4    93\n",
       "dtype: int64"
      ]
     },
     "execution_count": 20,
     "metadata": {},
     "output_type": "execute_result"
    }
   ],
   "source": [
    "s1 * 3"
   ]
  },
  {
   "cell_type": "markdown",
   "id": "63216b5d-0624-4d26-a618-862778c022a0",
   "metadata": {},
   "source": [
    "Series也有广播机制"
   ]
  },
  {
   "cell_type": "code",
   "execution_count": 21,
   "id": "126ac2ac-a5a4-4137-b1de-fb6021e1179b",
   "metadata": {},
   "outputs": [],
   "source": [
    "def get_grade(score):\n",
    "    if score >= 90:\n",
    "        return \"A\"\n",
    "    else:\n",
    "        return \"B\""
   ]
  },
  {
   "cell_type": "code",
   "execution_count": 22,
   "id": "251ba6ea-3fea-4d4b-bbf3-861bca9191bd",
   "metadata": {},
   "outputs": [
    {
     "data": {
      "text/plain": [
       "小明    99\n",
       "小红    80\n",
       "dtype: int64"
      ]
     },
     "execution_count": 22,
     "metadata": {},
     "output_type": "execute_result"
    }
   ],
   "source": [
    "scores = pd.Series({\"小明\":99,\"小红\":80})\n",
    "scores"
   ]
  },
  {
   "cell_type": "code",
   "execution_count": 23,
   "id": "32fe1a38-7fa2-43ab-a5b9-f3b0ef1298bb",
   "metadata": {},
   "outputs": [
    {
     "data": {
      "text/plain": [
       "小明    A\n",
       "小红    B\n",
       "dtype: object"
      ]
     },
     "execution_count": 23,
     "metadata": {},
     "output_type": "execute_result"
    }
   ],
   "source": [
    "grades = scores.apply(get_grade)\n",
    "grades"
   ]
  },
  {
   "cell_type": "markdown",
   "id": "333bbcb6-a78b-49ee-ab6f-ffba9765fff2",
   "metadata": {},
   "source": [
    "## 以上是用apply方法将数组与函数进行链接（不改变原Series的值，而是返回一个新的Series）"
   ]
  },
  {
   "cell_type": "code",
   "execution_count": 24,
   "id": "93e05167-66e8-4a6f-87e4-0564661eee6b",
   "metadata": {},
   "outputs": [
    {
     "data": {
      "text/plain": [
       "小明    9801\n",
       "小红    6400\n",
       "dtype: int64"
      ]
     },
     "execution_count": 24,
     "metadata": {},
     "output_type": "execute_result"
    }
   ],
   "source": [
    "squared_scores = scores.apply(lambda x: x*x)\n",
    "squared_scores"
   ]
  },
  {
   "cell_type": "markdown",
   "id": "3135e503-277f-4f70-ac42-e6a5f67737d9",
   "metadata": {},
   "source": [
    "## 对元素分别操作也可以用**匿名函数**（lambda）"
   ]
  },
  {
   "cell_type": "code",
   "execution_count": null,
   "id": "7f3c0ca6-a352-4b70-ba19-9b3406c4ef46",
   "metadata": {},
   "outputs": [],
   "source": []
  },
  {
   "cell_type": "code",
   "execution_count": null,
   "id": "168f809a-12e6-4028-adb6-30e8a7f8f945",
   "metadata": {},
   "outputs": [],
   "source": []
  },
  {
   "cell_type": "code",
   "execution_count": null,
   "id": "87ae2511-ebe1-4f88-9678-0c26f99f0215",
   "metadata": {},
   "outputs": [],
   "source": []
  },
  {
   "cell_type": "code",
   "execution_count": null,
   "id": "a2055aea-4cc0-43cd-8652-3cb1f18889cf",
   "metadata": {},
   "outputs": [],
   "source": []
  },
  {
   "cell_type": "code",
   "execution_count": null,
   "id": "5e6f4741-380f-44f1-87da-70521ba508f2",
   "metadata": {},
   "outputs": [],
   "source": []
  },
  {
   "cell_type": "code",
   "execution_count": null,
   "id": "5bc9792b-465e-4ede-9614-9664bb91bcd6",
   "metadata": {},
   "outputs": [],
   "source": []
  },
  {
   "cell_type": "code",
   "execution_count": null,
   "id": "79520b8a-c463-4567-93bb-07b55e96b63f",
   "metadata": {},
   "outputs": [],
   "source": []
  },
  {
   "cell_type": "code",
   "execution_count": null,
   "id": "6c1a806a-93f0-478a-9a7d-4b30886a56f3",
   "metadata": {},
   "outputs": [],
   "source": []
  },
  {
   "cell_type": "code",
   "execution_count": null,
   "id": "bcde4e1d-7518-437a-8869-220e40d42ed4",
   "metadata": {},
   "outputs": [],
   "source": []
  },
  {
   "cell_type": "code",
   "execution_count": null,
   "id": "dad8aebb-cec8-42a5-8968-c4b534f937ce",
   "metadata": {},
   "outputs": [],
   "source": []
  },
  {
   "cell_type": "code",
   "execution_count": null,
   "id": "5a50cc0f-73b0-4aa1-bf8d-3b8742e1be94",
   "metadata": {},
   "outputs": [],
   "source": []
  },
  {
   "cell_type": "code",
   "execution_count": null,
   "id": "baf110ec-9f3e-4b83-9046-49eb50ac3297",
   "metadata": {},
   "outputs": [],
   "source": []
  },
  {
   "cell_type": "code",
   "execution_count": null,
   "id": "650581cc-d42a-43f0-9bbc-57a34af6a1ca",
   "metadata": {},
   "outputs": [],
   "source": []
  },
  {
   "cell_type": "code",
   "execution_count": null,
   "id": "b775ebf6-3813-418b-acb9-d748edf2c9a8",
   "metadata": {},
   "outputs": [],
   "source": []
  }
 ],
 "metadata": {
  "kernelspec": {
   "display_name": "Python 3 (ipykernel)",
   "language": "python",
   "name": "python3"
  },
  "language_info": {
   "codemirror_mode": {
    "name": "ipython",
    "version": 3
   },
   "file_extension": ".py",
   "mimetype": "text/x-python",
   "name": "python",
   "nbconvert_exporter": "python",
   "pygments_lexer": "ipython3",
   "version": "3.13.1"
  }
 },
 "nbformat": 4,
 "nbformat_minor": 5
}
